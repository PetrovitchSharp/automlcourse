{
 "cells": [
  {
   "cell_type": "markdown",
   "metadata": {},
   "source": [
    "# Бейзлайн на основе LightAutoML"
   ]
  },
  {
   "cell_type": "code",
   "execution_count": 34,
   "metadata": {
    "_cell_guid": "b1076dfc-b9ad-4769-8c92-a6c4dae69d19",
    "_uuid": "8f2839f25d086af736a60e9eeb907d3b93b6e0e5",
    "editable": true,
    "slideshow": {
     "slide_type": ""
    },
    "tags": []
   },
   "outputs": [],
   "source": [
    "import numpy as np\n",
    "import pandas as pd"
   ]
  },
  {
   "cell_type": "code",
   "execution_count": 35,
   "metadata": {},
   "outputs": [],
   "source": [
    "from lightautoml.automl.presets.tabular_presets import TabularAutoML\n",
    "from lightautoml.tasks import Task"
   ]
  },
  {
   "cell_type": "code",
   "execution_count": 36,
   "metadata": {},
   "outputs": [],
   "source": [
    "train_data = pd.read_csv(\"train.csv\")\n",
    "test_data = pd.read_csv(\"test.csv\")"
   ]
  },
  {
   "cell_type": "code",
   "execution_count": 37,
   "metadata": {},
   "outputs": [
    {
     "data": {
      "text/html": [
       "<div>\n",
       "<style scoped>\n",
       "    .dataframe tbody tr th:only-of-type {\n",
       "        vertical-align: middle;\n",
       "    }\n",
       "\n",
       "    .dataframe tbody tr th {\n",
       "        vertical-align: top;\n",
       "    }\n",
       "\n",
       "    .dataframe thead th {\n",
       "        text-align: right;\n",
       "    }\n",
       "</style>\n",
       "<table border=\"1\" class=\"dataframe\">\n",
       "  <thead>\n",
       "    <tr style=\"text-align: right;\">\n",
       "      <th></th>\n",
       "      <th>id</th>\n",
       "      <th>target</th>\n",
       "      <th>ps_ind_01</th>\n",
       "      <th>ps_ind_02_cat</th>\n",
       "      <th>ps_ind_03</th>\n",
       "      <th>ps_ind_04_cat</th>\n",
       "      <th>ps_ind_05_cat</th>\n",
       "      <th>ps_ind_06_bin</th>\n",
       "      <th>ps_ind_07_bin</th>\n",
       "      <th>ps_ind_08_bin</th>\n",
       "      <th>...</th>\n",
       "      <th>ps_calc_11</th>\n",
       "      <th>ps_calc_12</th>\n",
       "      <th>ps_calc_13</th>\n",
       "      <th>ps_calc_14</th>\n",
       "      <th>ps_calc_15_bin</th>\n",
       "      <th>ps_calc_16_bin</th>\n",
       "      <th>ps_calc_17_bin</th>\n",
       "      <th>ps_calc_18_bin</th>\n",
       "      <th>ps_calc_19_bin</th>\n",
       "      <th>ps_calc_20_bin</th>\n",
       "    </tr>\n",
       "  </thead>\n",
       "  <tbody>\n",
       "    <tr>\n",
       "      <th>0</th>\n",
       "      <td>7</td>\n",
       "      <td>0</td>\n",
       "      <td>2</td>\n",
       "      <td>2</td>\n",
       "      <td>5</td>\n",
       "      <td>1</td>\n",
       "      <td>0</td>\n",
       "      <td>0</td>\n",
       "      <td>1</td>\n",
       "      <td>0</td>\n",
       "      <td>...</td>\n",
       "      <td>9</td>\n",
       "      <td>1</td>\n",
       "      <td>5</td>\n",
       "      <td>8</td>\n",
       "      <td>0</td>\n",
       "      <td>1</td>\n",
       "      <td>1</td>\n",
       "      <td>0</td>\n",
       "      <td>0</td>\n",
       "      <td>1</td>\n",
       "    </tr>\n",
       "    <tr>\n",
       "      <th>1</th>\n",
       "      <td>9</td>\n",
       "      <td>0</td>\n",
       "      <td>1</td>\n",
       "      <td>1</td>\n",
       "      <td>7</td>\n",
       "      <td>0</td>\n",
       "      <td>0</td>\n",
       "      <td>0</td>\n",
       "      <td>0</td>\n",
       "      <td>1</td>\n",
       "      <td>...</td>\n",
       "      <td>3</td>\n",
       "      <td>1</td>\n",
       "      <td>1</td>\n",
       "      <td>9</td>\n",
       "      <td>0</td>\n",
       "      <td>1</td>\n",
       "      <td>1</td>\n",
       "      <td>0</td>\n",
       "      <td>1</td>\n",
       "      <td>0</td>\n",
       "    </tr>\n",
       "    <tr>\n",
       "      <th>2</th>\n",
       "      <td>13</td>\n",
       "      <td>0</td>\n",
       "      <td>5</td>\n",
       "      <td>4</td>\n",
       "      <td>9</td>\n",
       "      <td>1</td>\n",
       "      <td>0</td>\n",
       "      <td>0</td>\n",
       "      <td>0</td>\n",
       "      <td>1</td>\n",
       "      <td>...</td>\n",
       "      <td>4</td>\n",
       "      <td>2</td>\n",
       "      <td>7</td>\n",
       "      <td>7</td>\n",
       "      <td>0</td>\n",
       "      <td>1</td>\n",
       "      <td>1</td>\n",
       "      <td>0</td>\n",
       "      <td>1</td>\n",
       "      <td>0</td>\n",
       "    </tr>\n",
       "    <tr>\n",
       "      <th>3</th>\n",
       "      <td>16</td>\n",
       "      <td>0</td>\n",
       "      <td>0</td>\n",
       "      <td>1</td>\n",
       "      <td>2</td>\n",
       "      <td>0</td>\n",
       "      <td>0</td>\n",
       "      <td>1</td>\n",
       "      <td>0</td>\n",
       "      <td>0</td>\n",
       "      <td>...</td>\n",
       "      <td>2</td>\n",
       "      <td>2</td>\n",
       "      <td>4</td>\n",
       "      <td>9</td>\n",
       "      <td>0</td>\n",
       "      <td>0</td>\n",
       "      <td>0</td>\n",
       "      <td>0</td>\n",
       "      <td>0</td>\n",
       "      <td>0</td>\n",
       "    </tr>\n",
       "    <tr>\n",
       "      <th>4</th>\n",
       "      <td>17</td>\n",
       "      <td>0</td>\n",
       "      <td>0</td>\n",
       "      <td>2</td>\n",
       "      <td>0</td>\n",
       "      <td>1</td>\n",
       "      <td>0</td>\n",
       "      <td>1</td>\n",
       "      <td>0</td>\n",
       "      <td>0</td>\n",
       "      <td>...</td>\n",
       "      <td>3</td>\n",
       "      <td>1</td>\n",
       "      <td>1</td>\n",
       "      <td>3</td>\n",
       "      <td>0</td>\n",
       "      <td>0</td>\n",
       "      <td>0</td>\n",
       "      <td>1</td>\n",
       "      <td>1</td>\n",
       "      <td>0</td>\n",
       "    </tr>\n",
       "  </tbody>\n",
       "</table>\n",
       "<p>5 rows × 59 columns</p>\n",
       "</div>"
      ],
      "text/plain": [
       "   id  target  ps_ind_01  ps_ind_02_cat  ps_ind_03  ps_ind_04_cat  \\\n",
       "0   7       0          2              2          5              1   \n",
       "1   9       0          1              1          7              0   \n",
       "2  13       0          5              4          9              1   \n",
       "3  16       0          0              1          2              0   \n",
       "4  17       0          0              2          0              1   \n",
       "\n",
       "   ps_ind_05_cat  ps_ind_06_bin  ps_ind_07_bin  ps_ind_08_bin  ...  \\\n",
       "0              0              0              1              0  ...   \n",
       "1              0              0              0              1  ...   \n",
       "2              0              0              0              1  ...   \n",
       "3              0              1              0              0  ...   \n",
       "4              0              1              0              0  ...   \n",
       "\n",
       "   ps_calc_11  ps_calc_12  ps_calc_13  ps_calc_14  ps_calc_15_bin  \\\n",
       "0           9           1           5           8               0   \n",
       "1           3           1           1           9               0   \n",
       "2           4           2           7           7               0   \n",
       "3           2           2           4           9               0   \n",
       "4           3           1           1           3               0   \n",
       "\n",
       "   ps_calc_16_bin  ps_calc_17_bin  ps_calc_18_bin  ps_calc_19_bin  \\\n",
       "0               1               1               0               0   \n",
       "1               1               1               0               1   \n",
       "2               1               1               0               1   \n",
       "3               0               0               0               0   \n",
       "4               0               0               1               1   \n",
       "\n",
       "   ps_calc_20_bin  \n",
       "0               1  \n",
       "1               0  \n",
       "2               0  \n",
       "3               0  \n",
       "4               0  \n",
       "\n",
       "[5 rows x 59 columns]"
      ]
     },
     "execution_count": 37,
     "metadata": {},
     "output_type": "execute_result"
    }
   ],
   "source": [
    "train_data.head()"
   ]
  },
  {
   "cell_type": "code",
   "execution_count": 38,
   "metadata": {},
   "outputs": [],
   "source": [
    "train_data.replace(\n",
    "    -1, np.NaN, inplace=True\n",
    ")  # Судя по описанию данных, -1 означает пропуск в данных. Заменим -1 на более понятный NaN"
   ]
  },
  {
   "cell_type": "code",
   "execution_count": 39,
   "metadata": {},
   "outputs": [],
   "source": [
    "import seaborn as sns\n",
    "\n",
    "sns.set(rc={\"figure.figsize\": (20, 8)})"
   ]
  },
  {
   "cell_type": "code",
   "execution_count": 40,
   "metadata": {},
   "outputs": [],
   "source": [
    "from sklearn.model_selection import train_test_split"
   ]
  },
  {
   "cell_type": "code",
   "execution_count": 41,
   "metadata": {},
   "outputs": [
    {
     "name": "stdout",
     "output_type": "stream",
     "text": [
      "Размер обучающей выборки: 476169\n",
      "Размер валидационной выборки: 119043\n"
     ]
    }
   ],
   "source": [
    "train, val = train_test_split(\n",
    "    train_data,\n",
    "    train_size=0.8,\n",
    "    stratify=train_data.target,  # Стратифицируем для сохранения баланса классов\n",
    "    random_state=42,\n",
    ")\n",
    "\n",
    "print(f\"Размер обучающей выборки: {train.shape[0]}\")\n",
    "print(f\"Размер валидационной выборки: {val.shape[0]}\")"
   ]
  },
  {
   "cell_type": "code",
   "execution_count": 42,
   "metadata": {},
   "outputs": [],
   "source": [
    "# Разбивка трейна на X и y\n",
    "X, y = train_data.drop([\"target\"], axis=1), train_data.target"
   ]
  },
  {
   "cell_type": "code",
   "execution_count": 43,
   "metadata": {},
   "outputs": [],
   "source": [
    "roles = {\n",
    "    \"target\": \"target\",\n",
    "    \"category\": [\n",
    "        \"ps_ind_02_cat\",\n",
    "        \"ps_ind_04_cat\",\n",
    "        \"ps_ind_05_cat\",\n",
    "        \"ps_ind_06_bin\",\n",
    "        \"ps_ind_07_bin\",\n",
    "        \"ps_ind_08_bin\",\n",
    "        \"ps_ind_09_bin\",\n",
    "        \"ps_ind_10_bin\",\n",
    "        \"ps_ind_11_bin\",\n",
    "        \"ps_ind_12_bin\",\n",
    "        \"ps_ind_13_bin\",\n",
    "        \"ps_calc_20_bin\",\n",
    "        \"ps_ind_16_bin\",\n",
    "        \"ps_ind_17_bin\",\n",
    "        \"ps_ind_18_bin\",\n",
    "        \"ps_car_01_cat\",\n",
    "        \"ps_car_02_cat\",\n",
    "        \"ps_car_03_cat\",\n",
    "        \"ps_car_04_cat\",\n",
    "        \"ps_car_05_cat\",\n",
    "        \"ps_car_06_cat\",\n",
    "        \"ps_car_07_cat\",\n",
    "        \"ps_car_08_cat\",\n",
    "        \"ps_car_09_cat\",\n",
    "        \"ps_car_10_cat\",\n",
    "        \"ps_car_11_cat\",\n",
    "        \"ps_calc_15_bin\",\n",
    "        \"ps_calc_16_bin\",\n",
    "        \"ps_calc_17_bin\",\n",
    "        \"ps_calc_18_bin\",\n",
    "        \"ps_calc_19_bin\",\n",
    "    ],\n",
    "    \"drop\": [\"id\"],  # Удаляем id, чтобы не допустить утечек данных\n",
    "}"
   ]
  },
  {
   "cell_type": "code",
   "execution_count": 52,
   "metadata": {},
   "outputs": [],
   "source": [
    "# https://stackoverflow.com/questions/46858373/how-to-calculate-normalized-gini-coefficient-in-tensorflow\n",
    "def gini(y_true, y_pred) -> float:\n",
    "    # Подсчет gini на основе реальных и предсказанных значений\n",
    "    assert len(y_true) == len(y_pred)\n",
    "    all = np.asarray(np.c_[y_true, y_pred, np.arange(len(y_true))], dtype=np.float64)\n",
    "    all = all[np.lexsort((all[:, 2], -1 * all[:, 1]))]\n",
    "    totalLosses = all[:, 0].sum()\n",
    "    giniSum = all[:, 0].cumsum().sum() / totalLosses\n",
    "\n",
    "    giniSum -= (len(y_true) + 1) / 2.0\n",
    "    return giniSum / len(y_true)\n",
    "\n",
    "\n",
    "def gini_normalized(y_true, y_pred) -> float:\n",
    "    # Нормализация gini\n",
    "    return gini(y_true, y_pred) / gini(y_true, y_pred)"
   ]
  },
  {
   "cell_type": "code",
   "execution_count": 45,
   "metadata": {},
   "outputs": [],
   "source": [
    "task = Task(\"binary\")\n",
    "roles = {\"target\": \"target\", \"drop\": [\"id\"]}"
   ]
  },
  {
   "cell_type": "code",
   "execution_count": 46,
   "metadata": {},
   "outputs": [],
   "source": [
    "lama = TabularAutoML(\n",
    "    task=task, cpu_limit=4, timeout=60 * 30, nested_cv_params={\"cv\": 5}\n",
    ")"
   ]
  },
  {
   "cell_type": "code",
   "execution_count": 47,
   "metadata": {},
   "outputs": [
    {
     "name": "stdout",
     "output_type": "stream",
     "text": [
      "[23:29:50] Stdout logging level is INFO.\n",
      "[23:29:50] Task: binary\n",
      "\n",
      "[23:29:50] Start automl preset with listed constraints:\n",
      "[23:29:50] - time: 1800.00 seconds\n",
      "[23:29:50] - CPU: 4 cores\n",
      "[23:29:50] - memory: 16 GB\n",
      "\n",
      "[23:29:50] \u001b[1mTrain data shape: (595212, 59)\u001b[0m\n",
      "\n",
      "[23:29:55] Layer \u001b[1m1\u001b[0m train process start. Time left 1794.79 secs\n",
      "[23:30:17] Start fitting \u001b[1mLvl_0_Pipe_0_Mod_0_LinearL2\u001b[0m ...\n",
      "[23:30:46] Fitting \u001b[1mLvl_0_Pipe_0_Mod_0_LinearL2\u001b[0m finished. score = \u001b[1m0.6321941629618173\u001b[0m\n",
      "[23:30:46] \u001b[1mLvl_0_Pipe_0_Mod_0_LinearL2\u001b[0m fitting and predicting completed\n",
      "[23:30:46] Time left 1744.22 secs\n",
      "\n",
      "[23:30:53] \u001b[1mSelector_LightGBM\u001b[0m fitting and predicting completed\n",
      "[23:31:16] Start fitting \u001b[1mLvl_0_Pipe_1_Mod_0_LightGBM\u001b[0m ...\n",
      "[23:32:03] Fitting \u001b[1mLvl_0_Pipe_1_Mod_0_LightGBM\u001b[0m finished. score = \u001b[1m0.631380570631602\u001b[0m\n",
      "[23:32:03] \u001b[1mLvl_0_Pipe_1_Mod_0_LightGBM\u001b[0m fitting and predicting completed\n",
      "[23:32:03] Start hyperparameters optimization for \u001b[1mLvl_0_Pipe_1_Mod_1_Tuned_LightGBM\u001b[0m ... Time budget is 208.71 secs\n",
      "[23:35:37] Hyperparameters optimization for \u001b[1mLvl_0_Pipe_1_Mod_1_Tuned_LightGBM\u001b[0m completed\n",
      "[23:35:37] Start fitting \u001b[1mLvl_0_Pipe_1_Mod_1_Tuned_LightGBM\u001b[0m ...\n",
      "[23:36:33] Fitting \u001b[1mLvl_0_Pipe_1_Mod_1_Tuned_LightGBM\u001b[0m finished. score = \u001b[1m0.6416684659873155\u001b[0m\n",
      "[23:36:33] \u001b[1mLvl_0_Pipe_1_Mod_1_Tuned_LightGBM\u001b[0m fitting and predicting completed\n",
      "[23:36:33] Start fitting \u001b[1mLvl_0_Pipe_1_Mod_2_CatBoost\u001b[0m ...\n",
      "[23:39:13] Fitting \u001b[1mLvl_0_Pipe_1_Mod_2_CatBoost\u001b[0m finished. score = \u001b[1m0.6387970778586\u001b[0m\n",
      "[23:39:13] \u001b[1mLvl_0_Pipe_1_Mod_2_CatBoost\u001b[0m fitting and predicting completed\n",
      "[23:39:13] Start hyperparameters optimization for \u001b[1mLvl_0_Pipe_1_Mod_3_Tuned_CatBoost\u001b[0m ... Time budget is 300.00 secs\n",
      "[23:44:14] Hyperparameters optimization for \u001b[1mLvl_0_Pipe_1_Mod_3_Tuned_CatBoost\u001b[0m completed\n",
      "[23:44:14] Start fitting \u001b[1mLvl_0_Pipe_1_Mod_3_Tuned_CatBoost\u001b[0m ...\n",
      "[23:50:20] Fitting \u001b[1mLvl_0_Pipe_1_Mod_3_Tuned_CatBoost\u001b[0m finished. score = \u001b[1m0.6412132774525069\u001b[0m\n",
      "[23:50:20] \u001b[1mLvl_0_Pipe_1_Mod_3_Tuned_CatBoost\u001b[0m fitting and predicting completed\n",
      "[23:50:20] Time left 570.55 secs\n",
      "\n",
      "[23:50:20] \u001b[1mLayer 1 training completed.\u001b[0m\n",
      "\n",
      "[23:50:20] Blending: optimization starts with equal weights and score \u001b[1m0.6418912660912532\u001b[0m\n",
      "[23:50:26] Blending: iteration \u001b[1m0\u001b[0m: score = \u001b[1m0.6428484165655564\u001b[0m, weights = \u001b[1m[0.         0.08010296 0.5001036  0.         0.41979343]\u001b[0m\n",
      "[23:50:32] Blending: iteration \u001b[1m1\u001b[0m: score = \u001b[1m0.64286117972926\u001b[0m, weights = \u001b[1m[0.         0.1088709  0.46953166 0.         0.42159742]\u001b[0m\n",
      "[23:50:38] Blending: iteration \u001b[1m2\u001b[0m: score = \u001b[1m0.64286117972926\u001b[0m, weights = \u001b[1m[0.         0.1088709  0.46953166 0.         0.42159742]\u001b[0m\n",
      "[23:50:38] Blending: no score update. Terminated\n",
      "\n",
      "[23:50:38] \u001b[1mAutoml preset training completed in 1248.29 seconds\u001b[0m\n",
      "\n",
      "[23:50:38] Model description:\n",
      "Final prediction for new objects (level 0) = \n",
      "\t 0.10887 * (5 averaged models Lvl_0_Pipe_1_Mod_0_LightGBM) +\n",
      "\t 0.46953 * (5 averaged models Lvl_0_Pipe_1_Mod_1_Tuned_LightGBM) +\n",
      "\t 0.42160 * (5 averaged models Lvl_0_Pipe_1_Mod_3_Tuned_CatBoost) \n",
      "\n"
     ]
    },
    {
     "data": {
      "text/plain": [
       "array([[0.044881  ],\n",
       "       [0.03313397],\n",
       "       [0.02116301],\n",
       "       ...,\n",
       "       [0.01731319],\n",
       "       [0.03080122],\n",
       "       [0.01907374]], dtype=float32)"
      ]
     },
     "execution_count": 47,
     "metadata": {},
     "output_type": "execute_result"
    }
   ],
   "source": [
    "lama.fit_predict(train_data=train_data, roles=roles, verbose=1)"
   ]
  },
  {
   "cell_type": "code",
   "execution_count": 55,
   "metadata": {},
   "outputs": [],
   "source": [
    "predicts = lama.predict(test_data)"
   ]
  },
  {
   "cell_type": "code",
   "execution_count": 57,
   "metadata": {},
   "outputs": [],
   "source": [
    "pd.DataFrame({\"id\": test_data.id, \"target\": predicts.data[:, 0]}).to_csv(\n",
    "    \"submit_lama_v1.csv\", index=None\n",
    ")"
   ]
  },
  {
   "attachments": {
    "35dd8850-bc40-44ca-8664-a0923198a5cb.png": {
     "image/png": "[encoded data removed]"
    }
   },
   "cell_type": "markdown",
   "metadata": {},
   "source": [
    "![image.png](attachment:35dd8850-bc40-44ca-8664-a0923198a5cb.png)"
   ]
  }
 ],
 "metadata": {
  "kaggle": {
   "accelerator": "none",
   "dataSources": [
    {
     "databundleVersionId": 874852,
     "sourceId": 7082,
     "sourceType": "competition"
    },
    {
     "datasetId": 4190216,
     "sourceId": 7235895,
     "sourceType": "datasetVersion"
    }
   ],
   "dockerImageVersionId": 30626,
   "isGpuEnabled": false,
   "isInternetEnabled": true,
   "language": "python",
   "sourceType": "notebook"
  },
  "kernelspec": {
   "display_name": "Python 3 (ipykernel)",
   "language": "python",
   "name": "python3"
  },
  "language_info": {
   "codemirror_mode": {
    "name": "ipython",
    "version": 3
   },
   "file_extension": ".py",
   "mimetype": "text/x-python",
   "name": "python",
   "nbconvert_exporter": "python",
   "pygments_lexer": "ipython3",
   "version": "3.9.11"
  }
 },
 "nbformat": 4,
 "nbformat_minor": 4
}
