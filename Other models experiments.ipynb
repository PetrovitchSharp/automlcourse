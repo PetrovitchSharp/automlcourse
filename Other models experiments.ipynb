{
 "cells": [
  {
   "cell_type": "markdown",
   "id": "50e9064c",
   "metadata": {},
   "source": [
    "# Эксперименты с другими моделями и различными способами подбора гиперпараметров"
   ]
  },
  {
   "cell_type": "markdown",
   "id": "610f4f26",
   "metadata": {},
   "source": [
    "В ходе экспериментов были опробованы 4 модели: CatBoostClassifier, LGBMClassifier, RandomForestClassifier и XGBClassifier\n",
    "\n",
    "Подбор гиперпараметров осуществлялся, соответственно, при помощи HyperOpt, Optuna, GridSearchCV (из sklearn) и SkOpt\n",
    "\n",
    "Spoiler: В результате связка XGBClassifier + SkOpt смогла побить скор (public и private) LightAutoML"
   ]
  },
  {
   "cell_type": "code",
   "execution_count": 1,
   "id": "1ff4345e",
   "metadata": {},
   "outputs": [
    {
     "data": {
      "application/javascript": "\n            setTimeout(function() {\n                var nbb_cell_id = 1;\n                var nbb_unformatted_code = \"%load_ext nb_black\";\n                var nbb_formatted_code = \"%load_ext nb_black\";\n                var nbb_cells = Jupyter.notebook.get_cells();\n                for (var i = 0; i < nbb_cells.length; ++i) {\n                    if (nbb_cells[i].input_prompt_number == nbb_cell_id) {\n                        if (nbb_cells[i].get_text() == nbb_unformatted_code) {\n                             nbb_cells[i].set_text(nbb_formatted_code);\n                        }\n                        break;\n                    }\n                }\n            }, 500);\n            ",
      "text/plain": [
       "<IPython.core.display.Javascript object>"
      ]
     },
     "metadata": {},
     "output_type": "display_data"
    }
   ],
   "source": [
    "%load_ext nb_black"
   ]
  },
  {
   "cell_type": "code",
   "execution_count": 2,
   "id": "716085f9",
   "metadata": {},
   "outputs": [
    {
     "data": {
      "application/javascript": "\n            setTimeout(function() {\n                var nbb_cell_id = 2;\n                var nbb_unformatted_code = \"import warnings\\n\\nwarnings.filterwarnings(\\\"ignore\\\")\";\n                var nbb_formatted_code = \"import warnings\\n\\nwarnings.filterwarnings(\\\"ignore\\\")\";\n                var nbb_cells = Jupyter.notebook.get_cells();\n                for (var i = 0; i < nbb_cells.length; ++i) {\n                    if (nbb_cells[i].input_prompt_number == nbb_cell_id) {\n                        if (nbb_cells[i].get_text() == nbb_unformatted_code) {\n                             nbb_cells[i].set_text(nbb_formatted_code);\n                        }\n                        break;\n                    }\n                }\n            }, 500);\n            ",
      "text/plain": [
       "<IPython.core.display.Javascript object>"
      ]
     },
     "metadata": {},
     "output_type": "display_data"
    }
   ],
   "source": [
    "import warnings\n",
    "\n",
    "warnings.filterwarnings(\"ignore\")"
   ]
  },
  {
   "cell_type": "code",
   "execution_count": 3,
   "id": "a2f8f5c8",
   "metadata": {},
   "outputs": [
    {
     "data": {
      "application/javascript": "\n            setTimeout(function() {\n                var nbb_cell_id = 3;\n                var nbb_unformatted_code = \"from typing import Tuple\";\n                var nbb_formatted_code = \"from typing import Tuple\";\n                var nbb_cells = Jupyter.notebook.get_cells();\n                for (var i = 0; i < nbb_cells.length; ++i) {\n                    if (nbb_cells[i].input_prompt_number == nbb_cell_id) {\n                        if (nbb_cells[i].get_text() == nbb_unformatted_code) {\n                             nbb_cells[i].set_text(nbb_formatted_code);\n                        }\n                        break;\n                    }\n                }\n            }, 500);\n            ",
      "text/plain": [
       "<IPython.core.display.Javascript object>"
      ]
     },
     "metadata": {},
     "output_type": "display_data"
    }
   ],
   "source": [
    "from typing import Tuple"
   ]
  },
  {
   "cell_type": "code",
   "execution_count": 4,
   "id": "8c95c0ed-e210-4e28-90a7-0d76cf605643",
   "metadata": {},
   "outputs": [
    {
     "data": {
      "application/javascript": "\n            setTimeout(function() {\n                var nbb_cell_id = 4;\n                var nbb_unformatted_code = \"import numpy as np\\nimport pandas as pd\";\n                var nbb_formatted_code = \"import numpy as np\\nimport pandas as pd\";\n                var nbb_cells = Jupyter.notebook.get_cells();\n                for (var i = 0; i < nbb_cells.length; ++i) {\n                    if (nbb_cells[i].input_prompt_number == nbb_cell_id) {\n                        if (nbb_cells[i].get_text() == nbb_unformatted_code) {\n                             nbb_cells[i].set_text(nbb_formatted_code);\n                        }\n                        break;\n                    }\n                }\n            }, 500);\n            ",
      "text/plain": [
       "<IPython.core.display.Javascript object>"
      ]
     },
     "metadata": {},
     "output_type": "display_data"
    }
   ],
   "source": [
    "import numpy as np\n",
    "import pandas as pd"
   ]
  },
  {
   "cell_type": "code",
   "execution_count": 5,
   "id": "5c4fa098-7668-438b-a3d0-2f55ef654e4c",
   "metadata": {},
   "outputs": [
    {
     "data": {
      "application/javascript": "\n            setTimeout(function() {\n                var nbb_cell_id = 5;\n                var nbb_unformatted_code = \"from sklearn.compose import ColumnTransformer\\nfrom sklearn.impute import SimpleImputer\\nfrom sklearn.model_selection import train_test_split, cross_val_score\\nfrom sklearn.pipeline import Pipeline\\nfrom sklearn.preprocessing import StandardScaler, OneHotEncoder, FunctionTransformer\";\n                var nbb_formatted_code = \"from sklearn.compose import ColumnTransformer\\nfrom sklearn.impute import SimpleImputer\\nfrom sklearn.model_selection import train_test_split, cross_val_score\\nfrom sklearn.pipeline import Pipeline\\nfrom sklearn.preprocessing import StandardScaler, OneHotEncoder, FunctionTransformer\";\n                var nbb_cells = Jupyter.notebook.get_cells();\n                for (var i = 0; i < nbb_cells.length; ++i) {\n                    if (nbb_cells[i].input_prompt_number == nbb_cell_id) {\n                        if (nbb_cells[i].get_text() == nbb_unformatted_code) {\n                             nbb_cells[i].set_text(nbb_formatted_code);\n                        }\n                        break;\n                    }\n                }\n            }, 500);\n            ",
      "text/plain": [
       "<IPython.core.display.Javascript object>"
      ]
     },
     "metadata": {},
     "output_type": "display_data"
    }
   ],
   "source": [
    "from sklearn.compose import ColumnTransformer\n",
    "from sklearn.impute import SimpleImputer\n",
    "from sklearn.model_selection import cross_val_score\n",
    "from sklearn.pipeline import Pipeline\n",
    "from sklearn.preprocessing import StandardScaler, OneHotEncoder, FunctionTransformer"
   ]
  },
  {
   "cell_type": "code",
   "execution_count": 6,
   "id": "d2d3860c-2208-4608-be3e-42ef7802d44a",
   "metadata": {},
   "outputs": [
    {
     "data": {
      "application/javascript": "\n            setTimeout(function() {\n                var nbb_cell_id = 6;\n                var nbb_unformatted_code = \"# https://stackoverflow.com/questions/46858373/how-to-calculate-normalized-gini-coefficient-in-tensorflow\\ndef gini(actual, pred) -> float:\\n    assert len(actual) == len(pred)\\n    all = np.asarray(np.c_[actual, pred, np.arange(len(actual))], dtype=np.float64)\\n    all = all[np.lexsort((all[:, 2], -1 * all[:, 1]))]\\n    totalLosses = all[:, 0].sum()\\n    giniSum = all[:, 0].cumsum().sum() / totalLosses\\n\\n    giniSum -= (len(actual) + 1) / 2.0\\n    return giniSum / len(actual)\\n\\n\\ndef gini_normalized(actual, pred) -> float:\\n    return gini(actual, pred) / gini(actual, actual)\\n\\n\\ndef gini_normalized_score(estimator, X, y) -> float:\\n    predicted = estimator.predict_proba(X)[:, 1]  # \\u041f\\u0440\\u0435\\u0434\\u0441\\u043a\\u0430\\u0437\\u0430\\u043d\\u043d\\u044b\\u0435 \\u0437\\u043d\\u0430\\u0447\\u0435\\u043d\\u0438\\u044f\\n    score = gini_normalized(y, predicted)  # \\u0412\\u044b\\u0447\\u0438\\u0441\\u043b\\u0435\\u043d\\u0438\\u0435 \\u043d\\u043e\\u0440\\u043c\\u0430\\u043b\\u0438\\u0437\\u043e\\u0432\\u0430\\u043d\\u043d\\u043e\\u0433\\u043e gini\\n    return score\";\n                var nbb_formatted_code = \"# https://stackoverflow.com/questions/46858373/how-to-calculate-normalized-gini-coefficient-in-tensorflow\\ndef gini(actual, pred) -> float:\\n    assert len(actual) == len(pred)\\n    all = np.asarray(np.c_[actual, pred, np.arange(len(actual))], dtype=np.float64)\\n    all = all[np.lexsort((all[:, 2], -1 * all[:, 1]))]\\n    totalLosses = all[:, 0].sum()\\n    giniSum = all[:, 0].cumsum().sum() / totalLosses\\n\\n    giniSum -= (len(actual) + 1) / 2.0\\n    return giniSum / len(actual)\\n\\n\\ndef gini_normalized(actual, pred) -> float:\\n    return gini(actual, pred) / gini(actual, actual)\\n\\n\\ndef gini_normalized_score(estimator, X, y) -> float:\\n    predicted = estimator.predict_proba(X)[:, 1]  # \\u041f\\u0440\\u0435\\u0434\\u0441\\u043a\\u0430\\u0437\\u0430\\u043d\\u043d\\u044b\\u0435 \\u0437\\u043d\\u0430\\u0447\\u0435\\u043d\\u0438\\u044f\\n    score = gini_normalized(y, predicted)  # \\u0412\\u044b\\u0447\\u0438\\u0441\\u043b\\u0435\\u043d\\u0438\\u0435 \\u043d\\u043e\\u0440\\u043c\\u0430\\u043b\\u0438\\u0437\\u043e\\u0432\\u0430\\u043d\\u043d\\u043e\\u0433\\u043e gini\\n    return score\";\n                var nbb_cells = Jupyter.notebook.get_cells();\n                for (var i = 0; i < nbb_cells.length; ++i) {\n                    if (nbb_cells[i].input_prompt_number == nbb_cell_id) {\n                        if (nbb_cells[i].get_text() == nbb_unformatted_code) {\n                             nbb_cells[i].set_text(nbb_formatted_code);\n                        }\n                        break;\n                    }\n                }\n            }, 500);\n            ",
      "text/plain": [
       "<IPython.core.display.Javascript object>"
      ]
     },
     "metadata": {},
     "output_type": "display_data"
    }
   ],
   "source": [
    "# https://stackoverflow.com/questions/46858373/how-to-calculate-normalized-gini-coefficient-in-tensorflow\n",
    "def gini(actual, pred) -> float:\n",
    "    # Подсчет gini на основе реальных и предсказанных значений\n",
    "    assert len(actual) == len(pred)\n",
    "    all = np.asarray(np.c_[actual, pred, np.arange(len(actual))], dtype=np.float64)\n",
    "    all = all[np.lexsort((all[:, 2], -1 * all[:, 1]))]\n",
    "    totalLosses = all[:, 0].sum()\n",
    "    giniSum = all[:, 0].cumsum().sum() / totalLosses\n",
    "\n",
    "    giniSum -= (len(actual) + 1) / 2.0\n",
    "    return giniSum / len(actual)\n",
    "\n",
    "\n",
    "def gini_normalized(actual, pred) -> float:\n",
    "    # Нормализация gini\n",
    "    return gini(actual, pred) / gini(actual, actual)\n",
    "\n",
    "\n",
    "def gini_normalized_score(estimator, X, y) -> float:\n",
    "    # SKLearn-like обертка gini_normalized\n",
    "    predicted = estimator.predict_proba(X)[:, 1] \n",
    "    score = gini_normalized(y, predicted)  \n",
    "    return score"
   ]
  },
  {
   "cell_type": "code",
   "execution_count": 7,
   "id": "cfb24398-66db-4897-a293-399f04826c5f",
   "metadata": {},
   "outputs": [
    {
     "data": {
      "application/javascript": "\n            setTimeout(function() {\n                var nbb_cell_id = 7;\n                var nbb_unformatted_code = \"def int_to_str(X: pd.DataFrame) -> pd.DataFrame:\\n    X_copy = X.copy()\\n    return X_copy.astype(str)\";\n                var nbb_formatted_code = \"def int_to_str(X: pd.DataFrame) -> pd.DataFrame:\\n    X_copy = X.copy()\\n    return X_copy.astype(str)\";\n                var nbb_cells = Jupyter.notebook.get_cells();\n                for (var i = 0; i < nbb_cells.length; ++i) {\n                    if (nbb_cells[i].input_prompt_number == nbb_cell_id) {\n                        if (nbb_cells[i].get_text() == nbb_unformatted_code) {\n                             nbb_cells[i].set_text(nbb_formatted_code);\n                        }\n                        break;\n                    }\n                }\n            }, 500);\n            ",
      "text/plain": [
       "<IPython.core.display.Javascript object>"
      ]
     },
     "metadata": {},
     "output_type": "display_data"
    }
   ],
   "source": [
    "def int_to_str(X: pd.DataFrame) -> pd.DataFrame:\n",
    "    # Преобразование всех int'ов в датафрейме в строки\n",
    "    # P.S. нужно для one hot энкодинга\n",
    "    X_copy = X.copy()\n",
    "    return X_copy.astype(str)"
   ]
  },
  {
   "cell_type": "code",
   "execution_count": 8,
   "id": "a199002c-38e3-4189-813a-6d49b1c6d200",
   "metadata": {},
   "outputs": [
    {
     "data": {
      "application/javascript": "\n            setTimeout(function() {\n                var nbb_cell_id = 8;\n                var nbb_unformatted_code = \"train_data = pd.read_csv(\\\"train.csv\\\")\\ntest_data = pd.read_csv(\\\"test.csv\\\")\";\n                var nbb_formatted_code = \"train_data = pd.read_csv(\\\"train.csv\\\")\\ntest_data = pd.read_csv(\\\"test.csv\\\")\";\n                var nbb_cells = Jupyter.notebook.get_cells();\n                for (var i = 0; i < nbb_cells.length; ++i) {\n                    if (nbb_cells[i].input_prompt_number == nbb_cell_id) {\n                        if (nbb_cells[i].get_text() == nbb_unformatted_code) {\n                             nbb_cells[i].set_text(nbb_formatted_code);\n                        }\n                        break;\n                    }\n                }\n            }, 500);\n            ",
      "text/plain": [
       "<IPython.core.display.Javascript object>"
      ]
     },
     "metadata": {},
     "output_type": "display_data"
    }
   ],
   "source": [
    "# Загрузка данных\n",
    "train_data = pd.read_csv(\"train.csv\")\n",
    "test_data = pd.read_csv(\"test.csv\")"
   ]
  },
  {
   "cell_type": "code",
   "execution_count": 9,
   "id": "24e12157-aa75-4c52-a1a0-211dcfd9ee89",
   "metadata": {},
   "outputs": [
    {
     "data": {
      "text/plain": [
       "Index(['id', 'target', 'ps_ind_01', 'ps_ind_02_cat', 'ps_ind_03',\n",
       "       'ps_ind_04_cat', 'ps_ind_05_cat', 'ps_ind_06_bin', 'ps_ind_07_bin',\n",
       "       'ps_ind_08_bin', 'ps_ind_09_bin', 'ps_ind_10_bin', 'ps_ind_11_bin',\n",
       "       'ps_ind_12_bin', 'ps_ind_13_bin', 'ps_ind_14', 'ps_ind_15',\n",
       "       'ps_ind_16_bin', 'ps_ind_17_bin', 'ps_ind_18_bin', 'ps_reg_01',\n",
       "       'ps_reg_02', 'ps_reg_03', 'ps_car_01_cat', 'ps_car_02_cat',\n",
       "       'ps_car_03_cat', 'ps_car_04_cat', 'ps_car_05_cat', 'ps_car_06_cat',\n",
       "       'ps_car_07_cat', 'ps_car_08_cat', 'ps_car_09_cat', 'ps_car_10_cat',\n",
       "       'ps_car_11_cat', 'ps_car_11', 'ps_car_12', 'ps_car_13', 'ps_car_14',\n",
       "       'ps_car_15', 'ps_calc_01', 'ps_calc_02', 'ps_calc_03', 'ps_calc_04',\n",
       "       'ps_calc_05', 'ps_calc_06', 'ps_calc_07', 'ps_calc_08', 'ps_calc_09',\n",
       "       'ps_calc_10', 'ps_calc_11', 'ps_calc_12', 'ps_calc_13', 'ps_calc_14',\n",
       "       'ps_calc_15_bin', 'ps_calc_16_bin', 'ps_calc_17_bin', 'ps_calc_18_bin',\n",
       "       'ps_calc_19_bin', 'ps_calc_20_bin'],\n",
       "      dtype='object')"
      ]
     },
     "execution_count": 9,
     "metadata": {},
     "output_type": "execute_result"
    },
    {
     "data": {
      "application/javascript": "\n            setTimeout(function() {\n                var nbb_cell_id = 9;\n                var nbb_unformatted_code = \"train_data.columns\";\n                var nbb_formatted_code = \"train_data.columns\";\n                var nbb_cells = Jupyter.notebook.get_cells();\n                for (var i = 0; i < nbb_cells.length; ++i) {\n                    if (nbb_cells[i].input_prompt_number == nbb_cell_id) {\n                        if (nbb_cells[i].get_text() == nbb_unformatted_code) {\n                             nbb_cells[i].set_text(nbb_formatted_code);\n                        }\n                        break;\n                    }\n                }\n            }, 500);\n            ",
      "text/plain": [
       "<IPython.core.display.Javascript object>"
      ]
     },
     "metadata": {},
     "output_type": "display_data"
    }
   ],
   "source": [
    "train_data.columns"
   ]
  },
  {
   "cell_type": "code",
   "execution_count": 10,
   "id": "858426d6-eda2-40b5-ac74-31f59c9c26fa",
   "metadata": {},
   "outputs": [
    {
     "data": {
      "application/javascript": "\n            setTimeout(function() {\n                var nbb_cell_id = 10;\n                var nbb_unformatted_code = \"numeric_features = [\\n    \\\"ps_ind_01\\\",\\n    \\\"ps_ind_03\\\",\\n    \\\"ps_ind_14\\\",\\n    \\\"ps_ind_15\\\",\\n    \\\"ps_reg_01\\\",\\n    \\\"ps_reg_02\\\",\\n    \\\"ps_reg_03\\\",\\n    \\\"ps_car_11\\\",\\n    \\\"ps_car_12\\\",\\n    \\\"ps_car_13\\\",\\n    \\\"ps_car_14\\\",\\n    \\\"ps_car_15\\\",\\n    \\\"ps_calc_01\\\",\\n    \\\"ps_calc_02\\\",\\n    \\\"ps_calc_03\\\",\\n    \\\"ps_calc_04\\\",\\n    \\\"ps_calc_05\\\",\\n    \\\"ps_calc_06\\\",\\n    \\\"ps_calc_07\\\",\\n    \\\"ps_calc_08\\\",\\n    \\\"ps_calc_09\\\",\\n    \\\"ps_calc_10\\\",\\n    \\\"ps_calc_11\\\",\\n    \\\"ps_calc_12\\\",\\n    \\\"ps_calc_13\\\",\\n    \\\"ps_calc_14\\\",\\n]\\ncategorical_features = [\\n    \\\"ps_ind_02_cat\\\",\\n    \\\"ps_ind_04_cat\\\",\\n    \\\"ps_ind_05_cat\\\",\\n    \\\"ps_car_01_cat\\\",\\n    \\\"ps_car_02_cat\\\",\\n    \\\"ps_car_03_cat\\\",\\n    \\\"ps_car_04_cat\\\",\\n    \\\"ps_car_05_cat\\\",\\n    \\\"ps_car_06_cat\\\",\\n    \\\"ps_car_07_cat\\\",\\n    \\\"ps_car_08_cat\\\",\\n    \\\"ps_car_09_cat\\\",\\n    \\\"ps_car_10_cat\\\",\\n    \\\"ps_car_11_cat\\\",\\n]\\nbinary_features = [\\n    \\\"ps_ind_06_bin\\\",\\n    \\\"ps_ind_07_bin\\\",\\n    \\\"ps_ind_08_bin\\\",\\n    \\\"ps_ind_09_bin\\\",\\n    \\\"ps_ind_10_bin\\\",\\n    \\\"ps_ind_11_bin\\\",\\n    \\\"ps_ind_12_bin\\\",\\n    \\\"ps_ind_13_bin\\\",\\n    \\\"ps_ind_16_bin\\\",\\n    \\\"ps_ind_17_bin\\\",\\n    \\\"ps_ind_18_bin\\\",\\n    \\\"ps_calc_15_bin\\\",\\n    \\\"ps_calc_16_bin\\\",\\n    \\\"ps_calc_17_bin\\\",\\n    \\\"ps_calc_18_bin\\\",\\n    \\\"ps_calc_19_bin\\\",\\n    \\\"ps_calc_20_bin\\\",\\n]\";\n                var nbb_formatted_code = \"numeric_features = [\\n    \\\"ps_ind_01\\\",\\n    \\\"ps_ind_03\\\",\\n    \\\"ps_ind_14\\\",\\n    \\\"ps_ind_15\\\",\\n    \\\"ps_reg_01\\\",\\n    \\\"ps_reg_02\\\",\\n    \\\"ps_reg_03\\\",\\n    \\\"ps_car_11\\\",\\n    \\\"ps_car_12\\\",\\n    \\\"ps_car_13\\\",\\n    \\\"ps_car_14\\\",\\n    \\\"ps_car_15\\\",\\n    \\\"ps_calc_01\\\",\\n    \\\"ps_calc_02\\\",\\n    \\\"ps_calc_03\\\",\\n    \\\"ps_calc_04\\\",\\n    \\\"ps_calc_05\\\",\\n    \\\"ps_calc_06\\\",\\n    \\\"ps_calc_07\\\",\\n    \\\"ps_calc_08\\\",\\n    \\\"ps_calc_09\\\",\\n    \\\"ps_calc_10\\\",\\n    \\\"ps_calc_11\\\",\\n    \\\"ps_calc_12\\\",\\n    \\\"ps_calc_13\\\",\\n    \\\"ps_calc_14\\\",\\n]\\ncategorical_features = [\\n    \\\"ps_ind_02_cat\\\",\\n    \\\"ps_ind_04_cat\\\",\\n    \\\"ps_ind_05_cat\\\",\\n    \\\"ps_car_01_cat\\\",\\n    \\\"ps_car_02_cat\\\",\\n    \\\"ps_car_03_cat\\\",\\n    \\\"ps_car_04_cat\\\",\\n    \\\"ps_car_05_cat\\\",\\n    \\\"ps_car_06_cat\\\",\\n    \\\"ps_car_07_cat\\\",\\n    \\\"ps_car_08_cat\\\",\\n    \\\"ps_car_09_cat\\\",\\n    \\\"ps_car_10_cat\\\",\\n    \\\"ps_car_11_cat\\\",\\n]\\nbinary_features = [\\n    \\\"ps_ind_06_bin\\\",\\n    \\\"ps_ind_07_bin\\\",\\n    \\\"ps_ind_08_bin\\\",\\n    \\\"ps_ind_09_bin\\\",\\n    \\\"ps_ind_10_bin\\\",\\n    \\\"ps_ind_11_bin\\\",\\n    \\\"ps_ind_12_bin\\\",\\n    \\\"ps_ind_13_bin\\\",\\n    \\\"ps_ind_16_bin\\\",\\n    \\\"ps_ind_17_bin\\\",\\n    \\\"ps_ind_18_bin\\\",\\n    \\\"ps_calc_15_bin\\\",\\n    \\\"ps_calc_16_bin\\\",\\n    \\\"ps_calc_17_bin\\\",\\n    \\\"ps_calc_18_bin\\\",\\n    \\\"ps_calc_19_bin\\\",\\n    \\\"ps_calc_20_bin\\\",\\n]\";\n                var nbb_cells = Jupyter.notebook.get_cells();\n                for (var i = 0; i < nbb_cells.length; ++i) {\n                    if (nbb_cells[i].input_prompt_number == nbb_cell_id) {\n                        if (nbb_cells[i].get_text() == nbb_unformatted_code) {\n                             nbb_cells[i].set_text(nbb_formatted_code);\n                        }\n                        break;\n                    }\n                }\n            }, 500);\n            ",
      "text/plain": [
       "<IPython.core.display.Javascript object>"
      ]
     },
     "metadata": {},
     "output_type": "display_data"
    }
   ],
   "source": [
    "# Разбиение фичей по группам для их обработки в пайплайне\n",
    "numeric_features = [\n",
    "    \"ps_ind_01\",\n",
    "    \"ps_ind_03\",\n",
    "    \"ps_ind_14\",\n",
    "    \"ps_ind_15\",\n",
    "    \"ps_reg_01\",\n",
    "    \"ps_reg_02\",\n",
    "    \"ps_reg_03\",\n",
    "    \"ps_car_11\",\n",
    "    \"ps_car_12\",\n",
    "    \"ps_car_13\",\n",
    "    \"ps_car_14\",\n",
    "    \"ps_car_15\",\n",
    "    \"ps_calc_01\",\n",
    "    \"ps_calc_02\",\n",
    "    \"ps_calc_03\",\n",
    "    \"ps_calc_04\",\n",
    "    \"ps_calc_05\",\n",
    "    \"ps_calc_06\",\n",
    "    \"ps_calc_07\",\n",
    "    \"ps_calc_08\",\n",
    "    \"ps_calc_09\",\n",
    "    \"ps_calc_10\",\n",
    "    \"ps_calc_11\",\n",
    "    \"ps_calc_12\",\n",
    "    \"ps_calc_13\",\n",
    "    \"ps_calc_14\",\n",
    "]\n",
    "categorical_features = [\n",
    "    \"ps_ind_02_cat\",\n",
    "    \"ps_ind_04_cat\",\n",
    "    \"ps_ind_05_cat\",\n",
    "    \"ps_car_01_cat\",\n",
    "    \"ps_car_02_cat\",\n",
    "    \"ps_car_03_cat\",\n",
    "    \"ps_car_04_cat\",\n",
    "    \"ps_car_05_cat\",\n",
    "    \"ps_car_06_cat\",\n",
    "    \"ps_car_07_cat\",\n",
    "    \"ps_car_08_cat\",\n",
    "    \"ps_car_09_cat\",\n",
    "    \"ps_car_10_cat\",\n",
    "    \"ps_car_11_cat\",\n",
    "]\n",
    "binary_features = [\n",
    "    \"ps_ind_06_bin\",\n",
    "    \"ps_ind_07_bin\",\n",
    "    \"ps_ind_08_bin\",\n",
    "    \"ps_ind_09_bin\",\n",
    "    \"ps_ind_10_bin\",\n",
    "    \"ps_ind_11_bin\",\n",
    "    \"ps_ind_12_bin\",\n",
    "    \"ps_ind_13_bin\",\n",
    "    \"ps_ind_16_bin\",\n",
    "    \"ps_ind_17_bin\",\n",
    "    \"ps_ind_18_bin\",\n",
    "    \"ps_calc_15_bin\",\n",
    "    \"ps_calc_16_bin\",\n",
    "    \"ps_calc_17_bin\",\n",
    "    \"ps_calc_18_bin\",\n",
    "    \"ps_calc_19_bin\",\n",
    "    \"ps_calc_20_bin\",\n",
    "]"
   ]
  },
  {
   "cell_type": "code",
   "execution_count": 11,
   "id": "2bcdb37b-2175-4ea8-935d-d4e7077f8d70",
   "metadata": {},
   "outputs": [
    {
     "data": {
      "application/javascript": "\n            setTimeout(function() {\n                var nbb_cell_id = 11;\n                var nbb_unformatted_code = \"X, y = train_data.drop([\\\"target\\\"], axis=1), train_data.target\";\n                var nbb_formatted_code = \"X, y = train_data.drop([\\\"target\\\"], axis=1), train_data.target\";\n                var nbb_cells = Jupyter.notebook.get_cells();\n                for (var i = 0; i < nbb_cells.length; ++i) {\n                    if (nbb_cells[i].input_prompt_number == nbb_cell_id) {\n                        if (nbb_cells[i].get_text() == nbb_unformatted_code) {\n                             nbb_cells[i].set_text(nbb_formatted_code);\n                        }\n                        break;\n                    }\n                }\n            }, 500);\n            ",
      "text/plain": [
       "<IPython.core.display.Javascript object>"
      ]
     },
     "metadata": {},
     "output_type": "display_data"
    }
   ],
   "source": [
    "# Разбивка трейна на X и y\n",
    "X, y = train_data.drop([\"target\"], axis=1), train_data.target"
   ]
  },
  {
   "cell_type": "code",
   "execution_count": 12,
   "id": "7e11a876-642b-4832-b392-afe2f66df90a",
   "metadata": {},
   "outputs": [
    {
     "data": {
      "application/javascript": "\n            setTimeout(function() {\n                var nbb_cell_id = 12;\n                var nbb_unformatted_code = \"numeric_transformer = Pipeline(\\n    steps=[(\\\"imputer\\\", SimpleImputer(strategy=\\\"median\\\")), (\\\"scaler\\\", StandardScaler())]\\n)\\n\\ncategorical_transformer = Pipeline(\\n    steps=[\\n        (\\\"transformer\\\", FunctionTransformer(int_to_str)),\\n        (\\\"imputer\\\", SimpleImputer(strategy=\\\"constant\\\", fill_value=\\\"missing_value\\\")),\\n        (\\\"onehot\\\", OneHotEncoder(handle_unknown=\\\"ignore\\\")),\\n    ]\\n)\\n\\npreprocessor = ColumnTransformer(\\n    transformers=[\\n        (\\\"num\\\", numeric_transformer, numeric_features),\\n        (\\\"cat\\\", categorical_transformer, categorical_features),\\n    ]\\n)\";\n                var nbb_formatted_code = \"numeric_transformer = Pipeline(\\n    steps=[(\\\"imputer\\\", SimpleImputer(strategy=\\\"median\\\")), (\\\"scaler\\\", StandardScaler())]\\n)\\n\\ncategorical_transformer = Pipeline(\\n    steps=[\\n        (\\\"transformer\\\", FunctionTransformer(int_to_str)),\\n        (\\\"imputer\\\", SimpleImputer(strategy=\\\"constant\\\", fill_value=\\\"missing_value\\\")),\\n        (\\\"onehot\\\", OneHotEncoder(handle_unknown=\\\"ignore\\\")),\\n    ]\\n)\\n\\npreprocessor = ColumnTransformer(\\n    transformers=[\\n        (\\\"num\\\", numeric_transformer, numeric_features),\\n        (\\\"cat\\\", categorical_transformer, categorical_features),\\n    ]\\n)\";\n                var nbb_cells = Jupyter.notebook.get_cells();\n                for (var i = 0; i < nbb_cells.length; ++i) {\n                    if (nbb_cells[i].input_prompt_number == nbb_cell_id) {\n                        if (nbb_cells[i].get_text() == nbb_unformatted_code) {\n                             nbb_cells[i].set_text(nbb_formatted_code);\n                        }\n                        break;\n                    }\n                }\n            }, 500);\n            ",
      "text/plain": [
       "<IPython.core.display.Javascript object>"
      ]
     },
     "metadata": {},
     "output_type": "display_data"
    }
   ],
   "source": [
    "# Блоки пайплайна\n",
    "# Заполнение пропусков медианой\n",
    "numeric_transformer = Pipeline(\n",
    "    steps=[(\"imputer\", SimpleImputer(strategy=\"median\")), (\"scaler\", StandardScaler())]\n",
    ")\n",
    "\n",
    "# Onehot преобразование категориальных фичей\n",
    "categorical_transformer = Pipeline(\n",
    "    steps=[\n",
    "        (\"transformer\", FunctionTransformer(int_to_str)),\n",
    "        (\"imputer\", SimpleImputer(strategy=\"constant\", fill_value=\"missing_value\")),\n",
    "        (\"onehot\", OneHotEncoder(handle_unknown=\"ignore\")),\n",
    "    ]\n",
    ")\n",
    "\n",
    "# Единый пайплайн\n",
    "preprocessor = ColumnTransformer(\n",
    "    transformers=[\n",
    "        (\"num\", numeric_transformer, numeric_features),\n",
    "        (\"cat\", categorical_transformer, categorical_features),\n",
    "    ]\n",
    ")"
   ]
  },
  {
   "cell_type": "code",
   "execution_count": 13,
   "id": "a90bcf16",
   "metadata": {},
   "outputs": [
    {
     "data": {
      "application/javascript": "\n            setTimeout(function() {\n                var nbb_cell_id = 13;\n                var nbb_unformatted_code = \"def get_submission(model, X_test: pd.DataFrame) -> pd.DataFrame:\\n    predicts = model.predict_proba(X_test)[:, 1]\\n    submit = pd.DataFrame({\\\"id\\\": X_test.id, \\\"target\\\": predicts})\\n    return submit\";\n                var nbb_formatted_code = \"def get_submission(model, X_test: pd.DataFrame) -> pd.DataFrame:\\n    predicts = model.predict_proba(X_test)[:, 1]\\n    submit = pd.DataFrame({\\\"id\\\": X_test.id, \\\"target\\\": predicts})\\n    return submit\";\n                var nbb_cells = Jupyter.notebook.get_cells();\n                for (var i = 0; i < nbb_cells.length; ++i) {\n                    if (nbb_cells[i].input_prompt_number == nbb_cell_id) {\n                        if (nbb_cells[i].get_text() == nbb_unformatted_code) {\n                             nbb_cells[i].set_text(nbb_formatted_code);\n                        }\n                        break;\n                    }\n                }\n            }, 500);\n            ",
      "text/plain": [
       "<IPython.core.display.Javascript object>"
      ]
     },
     "metadata": {},
     "output_type": "display_data"
    }
   ],
   "source": [
    "def get_submission(model, X_test: pd.DataFrame) -> pd.DataFrame:\n",
    "    # Получение датафрейма с предсказаниями в нужном формате\n",
    "    predicts = model.predict_proba(X_test)[:, 1]\n",
    "    submit = pd.DataFrame({\"id\": X_test.id, \"target\": predicts})\n",
    "    return submit"
   ]
  },
  {
   "cell_type": "markdown",
   "id": "7b980812-6f06-43c4-899f-0c0d7f74e451",
   "metadata": {},
   "source": [
    "## CatBoost + HyperOpt"
   ]
  },
  {
   "cell_type": "code",
   "execution_count": 14,
   "id": "a60e79cf-188e-4cbf-b9f3-e2f46a4c516c",
   "metadata": {},
   "outputs": [
    {
     "data": {
      "application/javascript": "\n            setTimeout(function() {\n                var nbb_cell_id = 14;\n                var nbb_unformatted_code = \"from catboost import CatBoostClassifier\";\n                var nbb_formatted_code = \"from catboost import CatBoostClassifier\";\n                var nbb_cells = Jupyter.notebook.get_cells();\n                for (var i = 0; i < nbb_cells.length; ++i) {\n                    if (nbb_cells[i].input_prompt_number == nbb_cell_id) {\n                        if (nbb_cells[i].get_text() == nbb_unformatted_code) {\n                             nbb_cells[i].set_text(nbb_formatted_code);\n                        }\n                        break;\n                    }\n                }\n            }, 500);\n            ",
      "text/plain": [
       "<IPython.core.display.Javascript object>"
      ]
     },
     "metadata": {},
     "output_type": "display_data"
    }
   ],
   "source": [
    "from catboost import CatBoostClassifier"
   ]
  },
  {
   "cell_type": "code",
   "execution_count": 15,
   "id": "68d50197",
   "metadata": {},
   "outputs": [
    {
     "data": {
      "application/javascript": "\n            setTimeout(function() {\n                var nbb_cell_id = 15;\n                var nbb_unformatted_code = \"from hyperopt import fmin, tpe, hp, STATUS_OK, Trials\";\n                var nbb_formatted_code = \"from hyperopt import fmin, tpe, hp, STATUS_OK, Trials\";\n                var nbb_cells = Jupyter.notebook.get_cells();\n                for (var i = 0; i < nbb_cells.length; ++i) {\n                    if (nbb_cells[i].input_prompt_number == nbb_cell_id) {\n                        if (nbb_cells[i].get_text() == nbb_unformatted_code) {\n                             nbb_cells[i].set_text(nbb_formatted_code);\n                        }\n                        break;\n                    }\n                }\n            }, 500);\n            ",
      "text/plain": [
       "<IPython.core.display.Javascript object>"
      ]
     },
     "metadata": {},
     "output_type": "display_data"
    }
   ],
   "source": [
    "from hyperopt import fmin, tpe, hp, STATUS_OK, Trials"
   ]
  },
  {
   "cell_type": "code",
   "execution_count": 16,
   "id": "105b7994",
   "metadata": {},
   "outputs": [
    {
     "data": {
      "application/javascript": "\n            setTimeout(function() {\n                var nbb_cell_id = 16;\n                var nbb_unformatted_code = \"def fit_cb_with_hyperopt(X: pd.DataFrame, y: pd.Series) -> Tuple[Pipeline, float]:\\n    def hyperopt_objective(params):\\n        model = CatBoostClassifier(**params, verbose=0)\\n        pipeline = Pipeline(\\n            steps=[(\\\"preprocessor\\\", preprocessor), (\\\"classifier\\\", model)]\\n        )\\n\\n        score = cross_val_score(pipeline, X, y, cv=5, scoring=gini_normalized_score)\\n\\n        return {\\\"loss\\\": -score.mean(), \\\"params\\\": params, \\\"status\\\": STATUS_OK}\\n\\n    search_space = {\\n        \\\"n_estimators\\\": hp.randint(\\\"n_estimators\\\", 50, 1000),\\n        \\\"depth\\\": hp.randint(\\\"depth\\\", 4, 12),\\n        \\\"learning_rate\\\": hp.uniform(\\\"learning_rate\\\", 3e-4, 1e-1),\\n    }\\n\\n    trials = Trials()\\n    best_params_cb = fmin(\\n        fn=hyperopt_objective,\\n        space=search_space,\\n        algo=tpe.suggest,\\n        max_evals=30,\\n        show_progressbar=True,\\n        trials=trials,\\n    )\\n\\n    cb_model = CatBoostClassifier(**best_params_cb, verbose=0)\\n    cb_pipeline = Pipeline(\\n        steps=[(\\\"preprocessor\\\", preprocessor), (\\\"classifier\\\", cb_model)]\\n    )\\n    best_score = -min(trials.losses())\\n\\n    cb_pipeline.fit(X, y)\\n\\n    return cb_pipeline, best_score\";\n                var nbb_formatted_code = \"def fit_cb_with_hyperopt(X: pd.DataFrame, y: pd.Series) -> Tuple[Pipeline, float]:\\n    def hyperopt_objective(params):\\n        model = CatBoostClassifier(**params, verbose=0)\\n        pipeline = Pipeline(\\n            steps=[(\\\"preprocessor\\\", preprocessor), (\\\"classifier\\\", model)]\\n        )\\n\\n        score = cross_val_score(pipeline, X, y, cv=5, scoring=gini_normalized_score)\\n\\n        return {\\\"loss\\\": -score.mean(), \\\"params\\\": params, \\\"status\\\": STATUS_OK}\\n\\n    search_space = {\\n        \\\"n_estimators\\\": hp.randint(\\\"n_estimators\\\", 50, 1000),\\n        \\\"depth\\\": hp.randint(\\\"depth\\\", 4, 12),\\n        \\\"learning_rate\\\": hp.uniform(\\\"learning_rate\\\", 3e-4, 1e-1),\\n    }\\n\\n    trials = Trials()\\n    best_params_cb = fmin(\\n        fn=hyperopt_objective,\\n        space=search_space,\\n        algo=tpe.suggest,\\n        max_evals=30,\\n        show_progressbar=True,\\n        trials=trials,\\n    )\\n\\n    cb_model = CatBoostClassifier(**best_params_cb, verbose=0)\\n    cb_pipeline = Pipeline(\\n        steps=[(\\\"preprocessor\\\", preprocessor), (\\\"classifier\\\", cb_model)]\\n    )\\n    best_score = -min(trials.losses())\\n\\n    cb_pipeline.fit(X, y)\\n\\n    return cb_pipeline, best_score\";\n                var nbb_cells = Jupyter.notebook.get_cells();\n                for (var i = 0; i < nbb_cells.length; ++i) {\n                    if (nbb_cells[i].input_prompt_number == nbb_cell_id) {\n                        if (nbb_cells[i].get_text() == nbb_unformatted_code) {\n                             nbb_cells[i].set_text(nbb_formatted_code);\n                        }\n                        break;\n                    }\n                }\n            }, 500);\n            ",
      "text/plain": [
       "<IPython.core.display.Javascript object>"
      ]
     },
     "metadata": {},
     "output_type": "display_data"
    }
   ],
   "source": [
    "def fit_cb_with_hyperopt(X: pd.DataFrame, y: pd.Series) -> Tuple[Pipeline, float]:\n",
    "    # Обучение CatBoost  c подбором гиперпараметров\n",
    "    # с помощью HyperOpt\n",
    "    def hyperopt_objective(params):\n",
    "        # Objective для hyperopt (a.k.a одна итерация подбора)\n",
    "        model = CatBoostClassifier(**params, verbose=0)\n",
    "        pipeline = Pipeline(\n",
    "            steps=[(\"preprocessor\", preprocessor), (\"classifier\", model)]\n",
    "        )\n",
    "\n",
    "        score = cross_val_score(pipeline, X, y, cv=5, scoring=gini_normalized_score)\n",
    "        # Приходится возвращать -score, потому что  HyperOpt не\n",
    "        # умеет в максимизацию\n",
    "        return {\"loss\": -score.mean(), \"params\": params, \"status\": STATUS_OK}\n",
    "\n",
    "    search_space = {\n",
    "        \"n_estimators\": hp.randint(\"n_estimators\", 50, 1000),\n",
    "        \"depth\": hp.randint(\"depth\", 4, 12),\n",
    "        \"learning_rate\": hp.uniform(\"learning_rate\", 3e-4, 1e-1),\n",
    "    }\n",
    "\n",
    "    trials = Trials()\n",
    "    best_params_cb = fmin(\n",
    "        fn=hyperopt_objective,\n",
    "        space=search_space,\n",
    "        algo=tpe.suggest,\n",
    "        max_evals=30,\n",
    "        show_progressbar=True,\n",
    "        trials=trials,\n",
    "    )\n",
    "    \n",
    "    # Обучение модели с лучшими параметрами\n",
    "    cb_model = CatBoostClassifier(**best_params_cb, verbose=0)\n",
    "    cb_pipeline = Pipeline(\n",
    "        steps=[(\"preprocessor\", preprocessor), (\"classifier\", cb_model)]\n",
    "    )\n",
    "    best_score = -min(trials.losses())\n",
    "\n",
    "    cb_pipeline.fit(X, y)\n",
    "\n",
    "    return cb_pipeline, best_score"
   ]
  },
  {
   "cell_type": "code",
   "execution_count": 17,
   "id": "c0e4ecf7",
   "metadata": {},
   "outputs": [
    {
     "name": "stdout",
     "output_type": "stream",
     "text": [
      "100%|███████| 30/30 [46:49<00:00, 93.65s/trial, best loss: -0.27071177517291045]\n",
      "CB + HyperOpt best score: 0.27071177517291045\n"
     ]
    },
    {
     "data": {
      "application/javascript": "\n            setTimeout(function() {\n                var nbb_cell_id = 17;\n                var nbb_unformatted_code = \"cb_classifier, cb_best_score = fit_cb_with_hyperopt(X, y)\\nprint(\\\"CB + HyperOpt best score:\\\", cb_best_score)\\ncb_submission = get_submission(cb_classifier, test_data)\";\n                var nbb_formatted_code = \"cb_classifier, cb_best_score = fit_cb_with_hyperopt(X, y)\\nprint(\\\"CB + HyperOpt best score:\\\", cb_best_score)\\ncb_submission = get_submission(cb_classifier, test_data)\";\n                var nbb_cells = Jupyter.notebook.get_cells();\n                for (var i = 0; i < nbb_cells.length; ++i) {\n                    if (nbb_cells[i].input_prompt_number == nbb_cell_id) {\n                        if (nbb_cells[i].get_text() == nbb_unformatted_code) {\n                             nbb_cells[i].set_text(nbb_formatted_code);\n                        }\n                        break;\n                    }\n                }\n            }, 500);\n            ",
      "text/plain": [
       "<IPython.core.display.Javascript object>"
      ]
     },
     "metadata": {},
     "output_type": "display_data"
    }
   ],
   "source": [
    "cb_classifier, cb_best_score = fit_cb_with_hyperopt(X, y)\n",
    "print(\"CB + HyperOpt best score:\", cb_best_score)\n",
    "cb_submission = get_submission(cb_classifier, test_data)"
   ]
  },
  {
   "cell_type": "code",
   "execution_count": 18,
   "id": "e873bd97",
   "metadata": {},
   "outputs": [
    {
     "data": {
      "application/javascript": "\n            setTimeout(function() {\n                var nbb_cell_id = 18;\n                var nbb_unformatted_code = \"cb_submission.to_csv('cb_submit.csv', index = None)\";\n                var nbb_formatted_code = \"cb_submission.to_csv(\\\"cb_submit.csv\\\", index=None)\";\n                var nbb_cells = Jupyter.notebook.get_cells();\n                for (var i = 0; i < nbb_cells.length; ++i) {\n                    if (nbb_cells[i].input_prompt_number == nbb_cell_id) {\n                        if (nbb_cells[i].get_text() == nbb_unformatted_code) {\n                             nbb_cells[i].set_text(nbb_formatted_code);\n                        }\n                        break;\n                    }\n                }\n            }, 500);\n            ",
      "text/plain": [
       "<IPython.core.display.Javascript object>"
      ]
     },
     "metadata": {},
     "output_type": "display_data"
    }
   ],
   "source": [
    "cb_submission.to_csv(\"cb_submit.csv\", index=None)"
   ]
  },
  {
   "attachments": {
    "image.png": {
     "image/png": "[encoded data removed]"
    }
   },
   "cell_type": "markdown",
   "id": "162f8a41",
   "metadata": {},
   "source": [
    "![image.png](attachment:image.png)"
   ]
  },
  {
   "cell_type": "markdown",
   "id": "9e2594b9",
   "metadata": {},
   "source": [
    "## LightGBM + Optuna"
   ]
  },
  {
   "cell_type": "code",
   "execution_count": 19,
   "id": "32d15675",
   "metadata": {},
   "outputs": [
    {
     "data": {
      "application/javascript": "\n            setTimeout(function() {\n                var nbb_cell_id = 19;\n                var nbb_unformatted_code = \"import optuna\\nfrom tqdm.auto import tqdm\\nfrom lightgbm import LGBMClassifier\";\n                var nbb_formatted_code = \"import optuna\\nfrom tqdm.auto import tqdm\\nfrom lightgbm import LGBMClassifier\";\n                var nbb_cells = Jupyter.notebook.get_cells();\n                for (var i = 0; i < nbb_cells.length; ++i) {\n                    if (nbb_cells[i].input_prompt_number == nbb_cell_id) {\n                        if (nbb_cells[i].get_text() == nbb_unformatted_code) {\n                             nbb_cells[i].set_text(nbb_formatted_code);\n                        }\n                        break;\n                    }\n                }\n            }, 500);\n            ",
      "text/plain": [
       "<IPython.core.display.Javascript object>"
      ]
     },
     "metadata": {},
     "output_type": "display_data"
    }
   ],
   "source": [
    "import optuna\n",
    "from tqdm.auto import tqdm\n",
    "from lightgbm import LGBMClassifier"
   ]
  },
  {
   "cell_type": "code",
   "execution_count": 21,
   "id": "544741a8",
   "metadata": {},
   "outputs": [
    {
     "data": {
      "application/javascript": "\n            setTimeout(function() {\n                var nbb_cell_id = 21;\n                var nbb_unformatted_code = \"class TqdmCallback:\\n    def __init__(self, total):\\n        self.pbar = tqdm(total = total)\\n        \\n    def __call__(self, study, trial):\\n        self.pbar.update(1)\";\n                var nbb_formatted_code = \"class TqdmCallback:\\n    def __init__(self, total):\\n        self.pbar = tqdm(total=total)\\n\\n    def __call__(self, study, trial):\\n        self.pbar.update(1)\";\n                var nbb_cells = Jupyter.notebook.get_cells();\n                for (var i = 0; i < nbb_cells.length; ++i) {\n                    if (nbb_cells[i].input_prompt_number == nbb_cell_id) {\n                        if (nbb_cells[i].get_text() == nbb_unformatted_code) {\n                             nbb_cells[i].set_text(nbb_formatted_code);\n                        }\n                        break;\n                    }\n                }\n            }, 500);\n            ",
      "text/plain": [
       "<IPython.core.display.Javascript object>"
      ]
     },
     "metadata": {},
     "output_type": "display_data"
    }
   ],
   "source": [
    "class TqdmCallback:\n",
    "    # Callback для вывода progress bar'а при подборе Optun'ой\n",
    "    def __init__(self, total):\n",
    "        self.pbar = tqdm(total=total)\n",
    "\n",
    "    def __call__(self, study, trial):\n",
    "        self.pbar.update(1)"
   ]
  },
  {
   "cell_type": "code",
   "execution_count": 20,
   "id": "0833c17b",
   "metadata": {},
   "outputs": [
    {
     "data": {
      "application/javascript": "\n            setTimeout(function() {\n                var nbb_cell_id = 20;\n                var nbb_unformatted_code = \"def fit_lgbm_with_optuna(X: pd.DataFrame, y: pd.Series) -> Tuple[Pipeline, float]:\\n    def optuna_objective(trial):\\n        params = {\\n            'n_estimators': trial.suggest_int('n_estimators', 50, 1000),\\n            'learning_rate': trial.suggest_loguniform('learning_rate', 1e-4, 1e-1),\\n            'num_leaves': trial.suggest_int('num_leaves', 20, 100),\\n        }\\n\\n        model = LGBMClassifier(**params, n_jobs=4)\\n        pipeline = Pipeline(steps=[('preprocessor', preprocessor),\\n                               ('classifier', model)])\\n\\n        score = cross_val_score(pipeline, X, y, cv=5, scoring=gini_normalized_score)\\n\\n        return score.mean()\\n    \\n    tqdm_callback = TqdmCallback(30)\\n\\n    study = optuna.create_study(direction='maximize')\\n    study.optimize(optuna_objective, n_trials=30, n_jobs=4, callbacks=[tqdm_callback])\\n    \\n    best_params_lgbm = study.best_trial.params\\n    best_score = study.best_value\\n    \\n    lgbm_model = LGBMClassifier(**best_params_lgbm, n_jobs=4)\\n    lgbm_pipeline = Pipeline(steps=[('preprocessor', preprocessor),\\n                           ('classifier', lgbm_model)])\\n    \\n    lgbm_pipeline.fit(X,y)\\n    \\n    return lgbm_pipeline, best_score\";\n                var nbb_formatted_code = \"def fit_lgbm_with_optuna(X: pd.DataFrame, y: pd.Series) -> Tuple[Pipeline, float]:\\n    def optuna_objective(trial):\\n        params = {\\n            \\\"n_estimators\\\": trial.suggest_int(\\\"n_estimators\\\", 50, 1000),\\n            \\\"learning_rate\\\": trial.suggest_loguniform(\\\"learning_rate\\\", 1e-4, 1e-1),\\n            \\\"num_leaves\\\": trial.suggest_int(\\\"num_leaves\\\", 20, 100),\\n        }\\n\\n        model = LGBMClassifier(**params, n_jobs=4)\\n        pipeline = Pipeline(\\n            steps=[(\\\"preprocessor\\\", preprocessor), (\\\"classifier\\\", model)]\\n        )\\n\\n        score = cross_val_score(pipeline, X, y, cv=5, scoring=gini_normalized_score)\\n\\n        return score.mean()\\n\\n    tqdm_callback = TqdmCallback(30)\\n\\n    study = optuna.create_study(direction=\\\"maximize\\\")\\n    study.optimize(optuna_objective, n_trials=30, n_jobs=4, callbacks=[tqdm_callback])\\n\\n    best_params_lgbm = study.best_trial.params\\n    best_score = study.best_value\\n\\n    lgbm_model = LGBMClassifier(**best_params_lgbm, n_jobs=4)\\n    lgbm_pipeline = Pipeline(\\n        steps=[(\\\"preprocessor\\\", preprocessor), (\\\"classifier\\\", lgbm_model)]\\n    )\\n\\n    lgbm_pipeline.fit(X, y)\\n\\n    return lgbm_pipeline, best_score\";\n                var nbb_cells = Jupyter.notebook.get_cells();\n                for (var i = 0; i < nbb_cells.length; ++i) {\n                    if (nbb_cells[i].input_prompt_number == nbb_cell_id) {\n                        if (nbb_cells[i].get_text() == nbb_unformatted_code) {\n                             nbb_cells[i].set_text(nbb_formatted_code);\n                        }\n                        break;\n                    }\n                }\n            }, 500);\n            ",
      "text/plain": [
       "<IPython.core.display.Javascript object>"
      ]
     },
     "metadata": {},
     "output_type": "display_data"
    }
   ],
   "source": [
    "def fit_lgbm_with_optuna(X: pd.DataFrame, y: pd.Series) -> Tuple[Pipeline, float]:\n",
    "    # Обучение LGBM  c подбором гиперпараметров\n",
    "    # с помощью Optuna\n",
    "    def optuna_objective(trial):\n",
    "        # Objective для optuna (a.k.a одна итерация подбора)\n",
    "        params = {\n",
    "            \"n_estimators\": trial.suggest_int(\"n_estimators\", 50, 1000),\n",
    "            \"learning_rate\": trial.suggest_loguniform(\"learning_rate\", 1e-4, 1e-1),\n",
    "            \"num_leaves\": trial.suggest_int(\"num_leaves\", 20, 100),\n",
    "        }\n",
    "\n",
    "        model = LGBMClassifier(**params, n_jobs=4)\n",
    "        pipeline = Pipeline(\n",
    "            steps=[(\"preprocessor\", preprocessor), (\"classifier\", model)]\n",
    "        )\n",
    "\n",
    "        score = cross_val_score(pipeline, X, y, cv=5, scoring=gini_normalized_score)\n",
    "\n",
    "        return score.mean()\n",
    "\n",
    "    tqdm_callback = TqdmCallback(30)\n",
    "\n",
    "    study = optuna.create_study(direction=\"maximize\")\n",
    "    study.optimize(optuna_objective, n_trials=30, n_jobs=4, callbacks=[tqdm_callback])\n",
    "\n",
    "    best_params_lgbm = study.best_trial.params\n",
    "    best_score = study.best_value\n",
    "    \n",
    "    # Обучение модели с лучшими параметрами\n",
    "    lgbm_model = LGBMClassifier(**best_params_lgbm, n_jobs=4)\n",
    "    lgbm_pipeline = Pipeline(\n",
    "        steps=[(\"preprocessor\", preprocessor), (\"classifier\", lgbm_model)]\n",
    "    )\n",
    "\n",
    "    lgbm_pipeline.fit(X, y)\n",
    "\n",
    "    return lgbm_pipeline, best_score"
   ]
  },
  {
   "cell_type": "code",
   "execution_count": 22,
   "id": "26728665",
   "metadata": {},
   "outputs": [
    {
     "data": {
      "application/vnd.jupyter.widget-view+json": {
       "model_id": "76bc90cc07114824a1b06341729976f3",
       "version_major": 2,
       "version_minor": 0
      },
      "text/plain": [
       "  0%|          | 0/30 [00:00<?, ?it/s]"
      ]
     },
     "metadata": {},
     "output_type": "display_data"
    },
    {
     "name": "stderr",
     "output_type": "stream",
     "text": [
      "[I 2023-12-24 14:59:39,921] A new study created in memory with name: no-name-6cc12ce5-e74a-4a46-ba07-d68f2b343401\n",
      "[I 2023-12-24 15:02:02,090] Trial 0 finished with value: 0.21788057680101852 and parameters: {'n_estimators': 369, 'learning_rate': 0.00032058095675539404, 'num_leaves': 20}. Best is trial 0 with value: 0.21788057680101852.\n",
      "[I 2023-12-24 15:02:47,339] Trial 3 finished with value: 0.24615218705660874 and parameters: {'n_estimators': 377, 'learning_rate': 0.0024808877146407526, 'num_leaves': 86}. Best is trial 3 with value: 0.24615218705660874.\n",
      "[I 2023-12-24 15:03:25,685] Trial 1 finished with value: 0.233551252347117 and parameters: {'n_estimators': 977, 'learning_rate': 0.042305177760975296, 'num_leaves': 89}. Best is trial 3 with value: 0.24615218705660874.\n",
      "[I 2023-12-24 15:05:06,146] Trial 2 finished with value: 0.23870451821674243 and parameters: {'n_estimators': 836, 'learning_rate': 0.0007060841215435209, 'num_leaves': 52}. Best is trial 3 with value: 0.24615218705660874.\n",
      "[I 2023-12-24 15:05:45,925] Trial 5 finished with value: 0.2620502466579631 and parameters: {'n_estimators': 497, 'learning_rate': 0.005576331208631555, 'num_leaves': 28}. Best is trial 5 with value: 0.2620502466579631.\n",
      "[I 2023-12-24 15:05:57,517] Trial 6 finished with value: 0.263840966034251 and parameters: {'n_estimators': 486, 'learning_rate': 0.021885511636746856, 'num_leaves': 70}. Best is trial 6 with value: 0.263840966034251.\n",
      "[I 2023-12-24 15:07:07,515] Trial 4 finished with value: 0.26784086700496285 and parameters: {'n_estimators': 967, 'learning_rate': 0.006621916677399568, 'num_leaves': 65}. Best is trial 4 with value: 0.26784086700496285.\n",
      "[I 2023-12-24 15:07:56,468] Trial 9 finished with value: 0.23856394104858172 and parameters: {'n_estimators': 226, 'learning_rate': 0.0024835121052009476, 'num_leaves': 55}. Best is trial 4 with value: 0.26784086700496285.\n",
      "[I 2023-12-24 15:09:23,468] Trial 10 finished with value: 0.25512540375915593 and parameters: {'n_estimators': 507, 'learning_rate': 0.0443070517679455, 'num_leaves': 56}. Best is trial 4 with value: 0.26784086700496285.\n",
      "[I 2023-12-24 15:09:38,768] Trial 11 finished with value: 0.26752859072056256 and parameters: {'n_estimators': 256, 'learning_rate': 0.02499127294622627, 'num_leaves': 43}. Best is trial 4 with value: 0.26784086700496285.\n",
      "[I 2023-12-24 15:10:54,859] Trial 7 finished with value: 0.23732471647132317 and parameters: {'n_estimators': 907, 'learning_rate': 0.000567570417920392, 'num_leaves': 48}. Best is trial 4 with value: 0.26784086700496285.\n",
      "[I 2023-12-24 15:11:34,056] Trial 8 finished with value: 0.24966170178299837 and parameters: {'n_estimators': 818, 'learning_rate': 0.0013905233709019793, 'num_leaves': 94}. Best is trial 4 with value: 0.26784086700496285.\n",
      "[I 2023-12-24 15:11:57,804] Trial 14 finished with value: 0.24067044041454783 and parameters: {'n_estimators': 63, 'learning_rate': 0.012785362294063853, 'num_leaves': 34}. Best is trial 4 with value: 0.26784086700496285.\n",
      "[I 2023-12-24 15:12:32,305] Trial 15 finished with value: 0.2356361808992094 and parameters: {'n_estimators': 50, 'learning_rate': 0.009959639486418155, 'num_leaves': 38}. Best is trial 4 with value: 0.26784086700496285.\n",
      "[I 2023-12-24 15:12:48,461] Trial 12 finished with value: 0.25743384716083495 and parameters: {'n_estimators': 717, 'learning_rate': 0.022347358247562534, 'num_leaves': 85}. Best is trial 4 with value: 0.26784086700496285.\n",
      "[I 2023-12-24 15:14:39,168] Trial 16 finished with value: 0.20660015167416662 and parameters: {'n_estimators': 713, 'learning_rate': 0.09466527711460003, 'num_leaves': 72}. Best is trial 4 with value: 0.26784086700496285.\n",
      "[I 2023-12-24 15:14:52,137] Trial 13 finished with value: 0.22646095784186615 and parameters: {'n_estimators': 786, 'learning_rate': 0.00012930485410434002, 'num_leaves': 70}. Best is trial 4 with value: 0.26784086700496285.\n",
      "[I 2023-12-24 15:15:12,027] Trial 17 finished with value: 0.21634595305625917 and parameters: {'n_estimators': 692, 'learning_rate': 0.08342957379691839, 'num_leaves': 71}. Best is trial 4 with value: 0.26784086700496285.\n",
      "[I 2023-12-24 15:15:22,921] Trial 18 finished with value: 0.22984420587697146 and parameters: {'n_estimators': 649, 'learning_rate': 0.07247804282295867, 'num_leaves': 71}. Best is trial 4 with value: 0.26784086700496285.\n",
      "[I 2023-12-24 15:16:38,788] Trial 19 finished with value: 0.2167196811431769 and parameters: {'n_estimators': 220, 'learning_rate': 0.00010104178712322532, 'num_leaves': 69}. Best is trial 4 with value: 0.26784086700496285.\n",
      "[I 2023-12-24 15:16:49,707] Trial 20 finished with value: 0.2517478247761302 and parameters: {'n_estimators': 225, 'learning_rate': 0.006305622069863652, 'num_leaves': 42}. Best is trial 4 with value: 0.26784086700496285.\n",
      "[I 2023-12-24 15:17:06,788] Trial 21 finished with value: 0.2487288857469166 and parameters: {'n_estimators': 208, 'learning_rate': 0.005863395938569427, 'num_leaves': 43}. Best is trial 4 with value: 0.26784086700496285.\n",
      "[I 2023-12-24 15:17:18,993] Trial 22 finished with value: 0.2561543474555097 and parameters: {'n_estimators': 230, 'learning_rate': 0.007514686225376946, 'num_leaves': 45}. Best is trial 4 with value: 0.26784086700496285.\n",
      "[I 2023-12-24 15:18:30,121] Trial 23 finished with value: 0.24734810635981366 and parameters: {'n_estimators': 203, 'learning_rate': 0.005503506267906124, 'num_leaves': 44}. Best is trial 4 with value: 0.26784086700496285.\n",
      "[I 2023-12-24 15:19:40,536] Trial 26 finished with value: 0.2664463423176672 and parameters: {'n_estimators': 374, 'learning_rate': 0.017902608992057492, 'num_leaves': 61}. Best is trial 4 with value: 0.26784086700496285.\n",
      "[I 2023-12-24 15:19:46,675] Trial 24 finished with value: 0.2638146564074769 and parameters: {'n_estimators': 587, 'learning_rate': 0.020165572426926456, 'num_leaves': 62}. Best is trial 4 with value: 0.26784086700496285.\n",
      "[I 2023-12-24 15:19:59,587] Trial 25 finished with value: 0.2646088123790587 and parameters: {'n_estimators': 585, 'learning_rate': 0.018631327101323765, 'num_leaves': 62}. Best is trial 4 with value: 0.26784086700496285.\n",
      "[I 2023-12-24 15:21:10,317] Trial 27 finished with value: 0.264374760444866 and parameters: {'n_estimators': 597, 'learning_rate': 0.018069238884695325, 'num_leaves': 63}. Best is trial 4 with value: 0.26784086700496285.\n",
      "[I 2023-12-24 15:21:31,334] Trial 29 finished with value: 0.2671928309239077 and parameters: {'n_estimators': 357, 'learning_rate': 0.014226318332916979, 'num_leaves': 62}. Best is trial 4 with value: 0.26784086700496285.\n",
      "[I 2023-12-24 15:21:37,143] Trial 28 finished with value: 0.2672134400226423 and parameters: {'n_estimators': 392, 'learning_rate': 0.012268318544892402, 'num_leaves': 61}. Best is trial 4 with value: 0.26784086700496285.\n"
     ]
    },
    {
     "name": "stdout",
     "output_type": "stream",
     "text": [
      "LGBM + Optuna best score: 0.26784086700496285\n"
     ]
    },
    {
     "data": {
      "application/javascript": "\n            setTimeout(function() {\n                var nbb_cell_id = 22;\n                var nbb_unformatted_code = \"lgbm_classifier, lgbm_best_score = fit_lgbm_with_optuna(X,y)\\nprint(\\\"LGBM + Optuna best score:\\\", lgbm_best_score)\\nlgbm_submission = get_submission(lgbm_classifier, test_data)\";\n                var nbb_formatted_code = \"lgbm_classifier, lgbm_best_score = fit_lgbm_with_optuna(X, y)\\nprint(\\\"LGBM + Optuna best score:\\\", lgbm_best_score)\\nlgbm_submission = get_submission(lgbm_classifier, test_data)\";\n                var nbb_cells = Jupyter.notebook.get_cells();\n                for (var i = 0; i < nbb_cells.length; ++i) {\n                    if (nbb_cells[i].input_prompt_number == nbb_cell_id) {\n                        if (nbb_cells[i].get_text() == nbb_unformatted_code) {\n                             nbb_cells[i].set_text(nbb_formatted_code);\n                        }\n                        break;\n                    }\n                }\n            }, 500);\n            ",
      "text/plain": [
       "<IPython.core.display.Javascript object>"
      ]
     },
     "metadata": {},
     "output_type": "display_data"
    }
   ],
   "source": [
    "lgbm_classifier, lgbm_best_score = fit_lgbm_with_optuna(X, y)\n",
    "print(\"LGBM + Optuna best score:\", lgbm_best_score)\n",
    "lgbm_submission = get_submission(lgbm_classifier, test_data)"
   ]
  },
  {
   "cell_type": "code",
   "execution_count": 23,
   "id": "1b8e0e43",
   "metadata": {},
   "outputs": [
    {
     "data": {
      "application/javascript": "\n            setTimeout(function() {\n                var nbb_cell_id = 23;\n                var nbb_unformatted_code = \"lgbm_submission.to_csv('lgbm_submit.csv', index = None)\";\n                var nbb_formatted_code = \"lgbm_submission.to_csv(\\\"lgbm_submit.csv\\\", index=None)\";\n                var nbb_cells = Jupyter.notebook.get_cells();\n                for (var i = 0; i < nbb_cells.length; ++i) {\n                    if (nbb_cells[i].input_prompt_number == nbb_cell_id) {\n                        if (nbb_cells[i].get_text() == nbb_unformatted_code) {\n                             nbb_cells[i].set_text(nbb_formatted_code);\n                        }\n                        break;\n                    }\n                }\n            }, 500);\n            ",
      "text/plain": [
       "<IPython.core.display.Javascript object>"
      ]
     },
     "metadata": {},
     "output_type": "display_data"
    }
   ],
   "source": [
    "lgbm_submission.to_csv(\"lgbm_submit.csv\", index=None)"
   ]
  },
  {
   "attachments": {
    "image.png": {
     "image/png": "[encoded data removed]"
    }
   },
   "cell_type": "markdown",
   "id": "d4c0b12d",
   "metadata": {},
   "source": [
    "![image.png](attachment:image.png)"
   ]
  },
  {
   "cell_type": "markdown",
   "id": "37e73045",
   "metadata": {},
   "source": [
    "## RFClassifier + GridSearchCV"
   ]
  },
  {
   "cell_type": "code",
   "execution_count": 24,
   "id": "700af95d",
   "metadata": {},
   "outputs": [
    {
     "data": {
      "application/javascript": "\n            setTimeout(function() {\n                var nbb_cell_id = 24;\n                var nbb_unformatted_code = \"from sklearn.ensemble import RandomForestClassifier\\nfrom sklearn.model_selection import GridSearchCV\";\n                var nbb_formatted_code = \"from sklearn.ensemble import RandomForestClassifier\\nfrom sklearn.model_selection import GridSearchCV\";\n                var nbb_cells = Jupyter.notebook.get_cells();\n                for (var i = 0; i < nbb_cells.length; ++i) {\n                    if (nbb_cells[i].input_prompt_number == nbb_cell_id) {\n                        if (nbb_cells[i].get_text() == nbb_unformatted_code) {\n                             nbb_cells[i].set_text(nbb_formatted_code);\n                        }\n                        break;\n                    }\n                }\n            }, 500);\n            ",
      "text/plain": [
       "<IPython.core.display.Javascript object>"
      ]
     },
     "metadata": {},
     "output_type": "display_data"
    }
   ],
   "source": [
    "from sklearn.ensemble import RandomForestClassifier\n",
    "from sklearn.model_selection import GridSearchCV"
   ]
  },
  {
   "cell_type": "code",
   "execution_count": 25,
   "id": "6bda0f93",
   "metadata": {
    "scrolled": true
   },
   "outputs": [
    {
     "data": {
      "application/javascript": "\n            setTimeout(function() {\n                var nbb_cell_id = 25;\n                var nbb_unformatted_code = \"def fit_rf_with_gridsearchcv(X: pd.DataFrame, y: pd.Series) -> Tuple[Pipeline, float]:\\n    param_grid = {\\n        'classifier__max_depth': [6,8,10],\\n        'classifier__n_estimators': [200, 300, 400],\\n    }\\n    \\n    model = RandomForestClassifier(verbose = 0, n_jobs=4)\\n    pipeline = Pipeline(steps=[('preprocessor', preprocessor),\\n                           ('classifier', model)])\\n    rf_grid_search = GridSearchCV(pipeline, param_grid, cv=5, n_jobs=4, scoring=gini_normalized_score, verbose=3)\\n    \\n    rf_grid_search.fit(X,y)\\n    best_score = rf_grid_search.best_score_\\n    \\n    return rf_grid_search.best_estimator_, best_score\";\n                var nbb_formatted_code = \"def fit_rf_with_gridsearchcv(X: pd.DataFrame, y: pd.Series) -> Tuple[Pipeline, float]:\\n    param_grid = {\\n        \\\"classifier__max_depth\\\": [6, 8, 10],\\n        \\\"classifier__n_estimators\\\": [200, 300, 400],\\n    }\\n\\n    model = RandomForestClassifier(verbose=0, n_jobs=4)\\n    pipeline = Pipeline(steps=[(\\\"preprocessor\\\", preprocessor), (\\\"classifier\\\", model)])\\n    rf_grid_search = GridSearchCV(\\n        pipeline, param_grid, cv=5, n_jobs=4, scoring=gini_normalized_score, verbose=3\\n    )\\n\\n    rf_grid_search.fit(X, y)\\n    best_score = rf_grid_search.best_score_\\n\\n    return rf_grid_search.best_estimator_, best_score\";\n                var nbb_cells = Jupyter.notebook.get_cells();\n                for (var i = 0; i < nbb_cells.length; ++i) {\n                    if (nbb_cells[i].input_prompt_number == nbb_cell_id) {\n                        if (nbb_cells[i].get_text() == nbb_unformatted_code) {\n                             nbb_cells[i].set_text(nbb_formatted_code);\n                        }\n                        break;\n                    }\n                }\n            }, 500);\n            ",
      "text/plain": [
       "<IPython.core.display.Javascript object>"
      ]
     },
     "metadata": {},
     "output_type": "display_data"
    }
   ],
   "source": [
    "def fit_rf_with_gridsearchcv(X: pd.DataFrame, y: pd.Series) -> Tuple[Pipeline, float]:\n",
    "    # Обучение RandomForest c подбором гиперпараметров\n",
    "    # с помощью GridSearchCV\n",
    "    param_grid = {\n",
    "        \"classifier__max_depth\": [6, 8, 10],\n",
    "        \"classifier__n_estimators\": [200, 300, 400],\n",
    "    }\n",
    "\n",
    "    model = RandomForestClassifier(verbose=0, n_jobs=4)\n",
    "    pipeline = Pipeline(steps=[(\"preprocessor\", preprocessor), (\"classifier\", model)])\n",
    "    rf_grid_search = GridSearchCV(\n",
    "        pipeline, param_grid, cv=5, n_jobs=4, scoring=gini_normalized_score, verbose=3\n",
    "    )\n",
    "\n",
    "    rf_grid_search.fit(X, y)\n",
    "    best_score = rf_grid_search.best_score_\n",
    "\n",
    "    return rf_grid_search.best_estimator_, best_score"
   ]
  },
  {
   "cell_type": "code",
   "execution_count": 26,
   "id": "f431d47d",
   "metadata": {},
   "outputs": [
    {
     "name": "stdout",
     "output_type": "stream",
     "text": [
      "Fitting 5 folds for each of 9 candidates, totalling 45 fits\n",
      "RF + GridSearchCV best score: 0.24909202665760496\n"
     ]
    },
    {
     "data": {
      "application/javascript": "\n            setTimeout(function() {\n                var nbb_cell_id = 26;\n                var nbb_unformatted_code = \"rf_classifier, rf_best_score = fit_rf_with_gridsearchcv(X,y)\\nprint(\\\"RF + GridSearchCV best score:\\\", rf_best_score)\\nrf_submission = get_submission(rf_classifier, test_data)\";\n                var nbb_formatted_code = \"rf_classifier, rf_best_score = fit_rf_with_gridsearchcv(X, y)\\nprint(\\\"RF + GridSearchCV best score:\\\", rf_best_score)\\nrf_submission = get_submission(rf_classifier, test_data)\";\n                var nbb_cells = Jupyter.notebook.get_cells();\n                for (var i = 0; i < nbb_cells.length; ++i) {\n                    if (nbb_cells[i].input_prompt_number == nbb_cell_id) {\n                        if (nbb_cells[i].get_text() == nbb_unformatted_code) {\n                             nbb_cells[i].set_text(nbb_formatted_code);\n                        }\n                        break;\n                    }\n                }\n            }, 500);\n            ",
      "text/plain": [
       "<IPython.core.display.Javascript object>"
      ]
     },
     "metadata": {},
     "output_type": "display_data"
    }
   ],
   "source": [
    "rf_classifier, rf_best_score = fit_rf_with_gridsearchcv(X, y)\n",
    "print(\"RF + GridSearchCV best score:\", rf_best_score)\n",
    "rf_submission = get_submission(rf_classifier, test_data)"
   ]
  },
  {
   "cell_type": "code",
   "execution_count": 27,
   "id": "6e598e4d",
   "metadata": {},
   "outputs": [
    {
     "data": {
      "application/javascript": "\n            setTimeout(function() {\n                var nbb_cell_id = 27;\n                var nbb_unformatted_code = \"rf_submission.to_csv('rf_submit.csv', index = None)\";\n                var nbb_formatted_code = \"rf_submission.to_csv(\\\"rf_submit.csv\\\", index=None)\";\n                var nbb_cells = Jupyter.notebook.get_cells();\n                for (var i = 0; i < nbb_cells.length; ++i) {\n                    if (nbb_cells[i].input_prompt_number == nbb_cell_id) {\n                        if (nbb_cells[i].get_text() == nbb_unformatted_code) {\n                             nbb_cells[i].set_text(nbb_formatted_code);\n                        }\n                        break;\n                    }\n                }\n            }, 500);\n            ",
      "text/plain": [
       "<IPython.core.display.Javascript object>"
      ]
     },
     "metadata": {},
     "output_type": "display_data"
    },
    {
     "name": "stdout",
     "output_type": "stream",
     "text": [
      "[CV 3/5] END classifier__max_depth=6, classifier__n_estimators=200;, score=0.245 total time= 1.6min\n",
      "[CV 3/5] END classifier__max_depth=6, classifier__n_estimators=300;, score=0.245 total time= 2.3min\n",
      "[CV 1/5] END classifier__max_depth=6, classifier__n_estimators=400;, score=0.240 total time= 3.0min\n",
      "[CV 1/5] END classifier__max_depth=8, classifier__n_estimators=200;, score=0.245 total time= 2.5min\n",
      "[CV 4/5] END classifier__max_depth=8, classifier__n_estimators=200;, score=0.239 total time= 2.4min\n",
      "[CV 3/5] END classifier__max_depth=8, classifier__n_estimators=300;, score=0.250 total time= 3.6min\n",
      "[CV 2/5] END classifier__max_depth=8, classifier__n_estimators=400;, score=0.241 total time= 4.6min\n",
      "[CV 1/5] END classifier__max_depth=10, classifier__n_estimators=200;, score=0.248 total time= 3.8min\n",
      "[CV 4/5] END classifier__max_depth=10, classifier__n_estimators=200;, score=0.244 total time= 3.5min\n",
      "[CV 3/5] END classifier__max_depth=10, classifier__n_estimators=300;, score=0.255 total time= 5.3min\n",
      "[CV 2/5] END classifier__max_depth=10, classifier__n_estimators=400;, score=0.246 total time= 7.1min\n",
      "[CV 4/5] END classifier__max_depth=6, classifier__n_estimators=200;, score=0.233 total time= 1.6min\n",
      "[CV 2/5] END classifier__max_depth=6, classifier__n_estimators=300;, score=0.235 total time= 2.3min\n",
      "[CV 2/5] END classifier__max_depth=6, classifier__n_estimators=400;, score=0.235 total time= 2.9min\n",
      "[CV 5/5] END classifier__max_depth=6, classifier__n_estimators=400;, score=0.242 total time= 2.9min\n",
      "[CV 5/5] END classifier__max_depth=8, classifier__n_estimators=200;, score=0.248 total time= 2.3min\n",
      "[CV 4/5] END classifier__max_depth=8, classifier__n_estimators=300;, score=0.241 total time= 3.5min\n",
      "[CV 3/5] END classifier__max_depth=8, classifier__n_estimators=400;, score=0.249 total time= 4.7min\n",
      "[CV 2/5] END classifier__max_depth=10, classifier__n_estimators=200;, score=0.246 total time= 3.8min\n",
      "[CV 5/5] END classifier__max_depth=10, classifier__n_estimators=200;, score=0.252 total time= 3.6min\n",
      "[CV 4/5] END classifier__max_depth=10, classifier__n_estimators=300;, score=0.243 total time= 5.5min\n",
      "[CV 3/5] END classifier__max_depth=10, classifier__n_estimators=400;, score=0.254 total time= 7.0min\n",
      "[CV 2/5] END classifier__max_depth=6, classifier__n_estimators=200;, score=0.234 total time= 1.6min\n",
      "[CV 1/5] END classifier__max_depth=6, classifier__n_estimators=300;, score=0.239 total time= 2.3min\n",
      "[CV 5/5] END classifier__max_depth=6, classifier__n_estimators=300;, score=0.244 total time= 2.3min\n",
      "[CV 4/5] END classifier__max_depth=6, classifier__n_estimators=400;, score=0.233 total time= 2.9min\n",
      "[CV 3/5] END classifier__max_depth=8, classifier__n_estimators=200;, score=0.251 total time= 2.4min\n",
      "[CV 2/5] END classifier__max_depth=8, classifier__n_estimators=300;, score=0.239 total time= 3.5min\n",
      "[CV 1/5] END classifier__max_depth=8, classifier__n_estimators=400;, score=0.245 total time= 4.7min\n",
      "[CV 5/5] END classifier__max_depth=8, classifier__n_estimators=400;, score=0.248 total time= 4.4min\n",
      "[CV 1/5] END classifier__max_depth=10, classifier__n_estimators=300;, score=0.249 total time= 5.2min\n",
      "[CV 5/5] END classifier__max_depth=10, classifier__n_estimators=300;, score=0.250 total time= 5.3min\n",
      "[CV 4/5] END classifier__max_depth=10, classifier__n_estimators=400;, score=0.245 total time= 6.1min\n",
      "[CV 1/5] END classifier__max_depth=6, classifier__n_estimators=200;, score=0.241 total time= 1.6min\n",
      "[CV 5/5] END classifier__max_depth=6, classifier__n_estimators=200;, score=0.243 total time= 1.6min\n",
      "[CV 4/5] END classifier__max_depth=6, classifier__n_estimators=300;, score=0.233 total time= 2.2min\n",
      "[CV 3/5] END classifier__max_depth=6, classifier__n_estimators=400;, score=0.245 total time= 3.1min\n",
      "[CV 2/5] END classifier__max_depth=8, classifier__n_estimators=200;, score=0.239 total time= 2.3min\n",
      "[CV 1/5] END classifier__max_depth=8, classifier__n_estimators=300;, score=0.246 total time= 3.6min\n",
      "[CV 5/5] END classifier__max_depth=8, classifier__n_estimators=300;, score=0.248 total time= 3.6min\n",
      "[CV 4/5] END classifier__max_depth=8, classifier__n_estimators=400;, score=0.239 total time= 4.6min\n",
      "[CV 3/5] END classifier__max_depth=10, classifier__n_estimators=200;, score=0.251 total time= 3.6min\n",
      "[CV 2/5] END classifier__max_depth=10, classifier__n_estimators=300;, score=0.244 total time= 5.2min\n",
      "[CV 1/5] END classifier__max_depth=10, classifier__n_estimators=400;, score=0.248 total time= 7.1min\n",
      "[CV 5/5] END classifier__max_depth=10, classifier__n_estimators=400;, score=0.251 total time= 3.1min\n"
     ]
    }
   ],
   "source": [
    "rf_submission.to_csv(\"rf_submit.csv\", index=None)"
   ]
  },
  {
   "attachments": {
    "image.png": {
     "image/png": "[encoded data removed]"
    }
   },
   "cell_type": "markdown",
   "id": "6842cd00",
   "metadata": {},
   "source": [
    "![image.png](attachment:image.png)"
   ]
  },
  {
   "cell_type": "markdown",
   "id": "f352da80",
   "metadata": {},
   "source": [
    "## XGBoost + SkOpt"
   ]
  },
  {
   "cell_type": "code",
   "execution_count": 33,
   "id": "caed753f",
   "metadata": {},
   "outputs": [
    {
     "data": {
      "application/javascript": "\n            setTimeout(function() {\n                var nbb_cell_id = 33;\n                var nbb_unformatted_code = \"from xgboost import XGBClassifier\\nfrom skopt import BayesSearchCV\\nfrom skopt.space import Real, Integer\";\n                var nbb_formatted_code = \"from xgboost import XGBClassifier\\nfrom skopt import BayesSearchCV\\nfrom skopt.space import Real, Integer\";\n                var nbb_cells = Jupyter.notebook.get_cells();\n                for (var i = 0; i < nbb_cells.length; ++i) {\n                    if (nbb_cells[i].input_prompt_number == nbb_cell_id) {\n                        if (nbb_cells[i].get_text() == nbb_unformatted_code) {\n                             nbb_cells[i].set_text(nbb_formatted_code);\n                        }\n                        break;\n                    }\n                }\n            }, 500);\n            ",
      "text/plain": [
       "<IPython.core.display.Javascript object>"
      ]
     },
     "metadata": {},
     "output_type": "display_data"
    }
   ],
   "source": [
    "from xgboost import XGBClassifier\n",
    "from skopt import BayesSearchCV\n",
    "from skopt.space import Real"
   ]
  },
  {
   "cell_type": "code",
   "execution_count": 38,
   "id": "9ecaa43d",
   "metadata": {},
   "outputs": [
    {
     "data": {
      "application/javascript": "\n            setTimeout(function() {\n                var nbb_cell_id = 38;\n                var nbb_unformatted_code = \"def fit_xgboost_with_skopt(X: pd.DataFrame, y: pd.Series) -> Tuple[Pipeline, float]:\\n    search_space = {\\n        'learning_rate': Real(0.01, 1.0, prior='log-uniform'),\\n        'min_child_weight': Real(1, 20),\\n        'subsample': Real(0.5, 1.0, prior='uniform'),\\n        'colsample_bytree': Real(0.5, 1.0, prior='uniform')\\n    }\\n    \\n    model = XGBClassifier(n_estimators = 500, max_depth = 10)\\n    \\n    bayes_search_cv = BayesSearchCV(\\n        model, \\n        search_space, \\n        n_iter=30,\\n        cv=5,\\n        scoring=gini_normalized_score,\\n        verbose=1\\n    )\\n    \\n    bayes_search_cv.fit(X, y)\\n    best_score = bayes_search_cv.best_score_\\n    \\n    return bayes_search_cv.best_estimator_, best_score\";\n                var nbb_formatted_code = \"def fit_xgboost_with_skopt(X: pd.DataFrame, y: pd.Series) -> Tuple[Pipeline, float]:\\n    search_space = {\\n        \\\"learning_rate\\\": Real(0.01, 1.0, prior=\\\"log-uniform\\\"),\\n        \\\"min_child_weight\\\": Real(1, 20),\\n        \\\"subsample\\\": Real(0.5, 1.0, prior=\\\"uniform\\\"),\\n        \\\"colsample_bytree\\\": Real(0.5, 1.0, prior=\\\"uniform\\\"),\\n    }\\n\\n    model = XGBClassifier(n_estimators=500, max_depth=10)\\n\\n    bayes_search_cv = BayesSearchCV(\\n        model, search_space, n_iter=30, cv=5, scoring=gini_normalized_score, verbose=1\\n    )\\n\\n    bayes_search_cv.fit(X, y)\\n    best_score = bayes_search_cv.best_score_\\n\\n    return bayes_search_cv.best_estimator_, best_score\";\n                var nbb_cells = Jupyter.notebook.get_cells();\n                for (var i = 0; i < nbb_cells.length; ++i) {\n                    if (nbb_cells[i].input_prompt_number == nbb_cell_id) {\n                        if (nbb_cells[i].get_text() == nbb_unformatted_code) {\n                             nbb_cells[i].set_text(nbb_formatted_code);\n                        }\n                        break;\n                    }\n                }\n            }, 500);\n            ",
      "text/plain": [
       "<IPython.core.display.Javascript object>"
      ]
     },
     "metadata": {},
     "output_type": "display_data"
    }
   ],
   "source": [
    "def fit_xgboost_with_skopt(X: pd.DataFrame, y: pd.Series) -> Tuple[Pipeline, float]:\n",
    "    # Обучение XBGoost c подбором гиперпараметров\n",
    "    # с помощью SkOpt\n",
    "    \n",
    "    search_space = {\n",
    "        'learning_rate': Real(0.01, 1.0, prior='log-uniform'),\n",
    "        'min_child_weight': Real(1, 20),\n",
    "        'subsample': Real(0.5, 1.0, prior='uniform'),\n",
    "        'colsample_bytree': Real(0.5, 1.0, prior='uniform')\n",
    "    }\n",
    "    # P.s. можно было перебрать большее количество гиперпараметров\n",
    "    # Но SkOpt использует устаревший numpy и попытка передать integer\n",
    "    # параметры заканчивается падением ячейки. Поэтому целочисленные\n",
    "    # значения были выбраны \"по ощущениям\"\n",
    "    model = XGBClassifier(n_estimators = 500, max_depth = 10)\n",
    "    \n",
    "    bayes_search_cv = BayesSearchCV(\n",
    "        model, \n",
    "        search_space, \n",
    "        n_iter=30,\n",
    "        cv=5,\n",
    "        scoring=gini_normalized_score,\n",
    "        verbose=1\n",
    "    )\n",
    "    \n",
    "    bayes_search_cv.fit(X, y)\n",
    "    best_score = bayes_search_cv.best_score_\n",
    "    \n",
    "    return bayes_search_cv.best_estimator_, best_score\n"
   ]
  },
  {
   "cell_type": "code",
   "execution_count": 39,
   "id": "6cce3bab",
   "metadata": {},
   "outputs": [
    {
     "name": "stdout",
     "output_type": "stream",
     "text": [
      "Fitting 5 folds for each of 1 candidates, totalling 5 fits\n",
      "Fitting 5 folds for each of 1 candidates, totalling 5 fits\n",
      "Fitting 5 folds for each of 1 candidates, totalling 5 fits\n",
      "Fitting 5 folds for each of 1 candidates, totalling 5 fits\n",
      "Fitting 5 folds for each of 1 candidates, totalling 5 fits\n",
      "Fitting 5 folds for each of 1 candidates, totalling 5 fits\n",
      "Fitting 5 folds for each of 1 candidates, totalling 5 fits\n",
      "Fitting 5 folds for each of 1 candidates, totalling 5 fits\n",
      "Fitting 5 folds for each of 1 candidates, totalling 5 fits\n",
      "Fitting 5 folds for each of 1 candidates, totalling 5 fits\n",
      "Fitting 5 folds for each of 1 candidates, totalling 5 fits\n",
      "Fitting 5 folds for each of 1 candidates, totalling 5 fits\n",
      "Fitting 5 folds for each of 1 candidates, totalling 5 fits\n",
      "Fitting 5 folds for each of 1 candidates, totalling 5 fits\n",
      "Fitting 5 folds for each of 1 candidates, totalling 5 fits\n",
      "Fitting 5 folds for each of 1 candidates, totalling 5 fits\n",
      "Fitting 5 folds for each of 1 candidates, totalling 5 fits\n",
      "Fitting 5 folds for each of 1 candidates, totalling 5 fits\n",
      "Fitting 5 folds for each of 1 candidates, totalling 5 fits\n",
      "Fitting 5 folds for each of 1 candidates, totalling 5 fits\n",
      "Fitting 5 folds for each of 1 candidates, totalling 5 fits\n",
      "Fitting 5 folds for each of 1 candidates, totalling 5 fits\n",
      "Fitting 5 folds for each of 1 candidates, totalling 5 fits\n",
      "Fitting 5 folds for each of 1 candidates, totalling 5 fits\n",
      "Fitting 5 folds for each of 1 candidates, totalling 5 fits\n",
      "Fitting 5 folds for each of 1 candidates, totalling 5 fits\n",
      "Fitting 5 folds for each of 1 candidates, totalling 5 fits\n",
      "Fitting 5 folds for each of 1 candidates, totalling 5 fits\n",
      "Fitting 5 folds for each of 1 candidates, totalling 5 fits\n",
      "Fitting 5 folds for each of 1 candidates, totalling 5 fits\n",
      "XGBoost + SkOpt best score: 0.2798859951442039\n"
     ]
    },
    {
     "data": {
      "application/javascript": "\n            setTimeout(function() {\n                var nbb_cell_id = 39;\n                var nbb_unformatted_code = \"xgb_classifier, xgb_best_score = fit_xgboost_with_skopt(X, y)\\nprint(\\\"XGBoost + SkOpt best score:\\\", xgb_best_score)\\nxgb_submission = get_submission(xgb_classifier, test_data)\";\n                var nbb_formatted_code = \"xgb_classifier, xgb_best_score = fit_xgboost_with_skopt(X, y)\\nprint(\\\"XGBoost + SkOpt best score:\\\", xgb_best_score)\\nxgb_submission = get_submission(xgb_classifier, test_data)\";\n                var nbb_cells = Jupyter.notebook.get_cells();\n                for (var i = 0; i < nbb_cells.length; ++i) {\n                    if (nbb_cells[i].input_prompt_number == nbb_cell_id) {\n                        if (nbb_cells[i].get_text() == nbb_unformatted_code) {\n                             nbb_cells[i].set_text(nbb_formatted_code);\n                        }\n                        break;\n                    }\n                }\n            }, 500);\n            ",
      "text/plain": [
       "<IPython.core.display.Javascript object>"
      ]
     },
     "metadata": {},
     "output_type": "display_data"
    }
   ],
   "source": [
    "xgb_classifier, xgb_best_score = fit_xgboost_with_skopt(X, y)\n",
    "print(\"XGBoost + SkOpt best score:\", xgb_best_score)\n",
    "xgb_submission = get_submission(xgb_classifier, test_data)"
   ]
  },
  {
   "cell_type": "code",
   "execution_count": 40,
   "id": "b5deebc7",
   "metadata": {},
   "outputs": [
    {
     "data": {
      "application/javascript": "\n            setTimeout(function() {\n                var nbb_cell_id = 40;\n                var nbb_unformatted_code = \"xgb_submission.to_csv(\\\"xgb_submit.csv\\\", index=None)\";\n                var nbb_formatted_code = \"xgb_submission.to_csv(\\\"xgb_submit.csv\\\", index=None)\";\n                var nbb_cells = Jupyter.notebook.get_cells();\n                for (var i = 0; i < nbb_cells.length; ++i) {\n                    if (nbb_cells[i].input_prompt_number == nbb_cell_id) {\n                        if (nbb_cells[i].get_text() == nbb_unformatted_code) {\n                             nbb_cells[i].set_text(nbb_formatted_code);\n                        }\n                        break;\n                    }\n                }\n            }, 500);\n            ",
      "text/plain": [
       "<IPython.core.display.Javascript object>"
      ]
     },
     "metadata": {},
     "output_type": "display_data"
    }
   ],
   "source": [
    "xgb_submission.to_csv(\"xgb_submit.csv\", index=None)"
   ]
  },
  {
   "attachments": {
    "image.png": {
     "image/png": "[encoded data removed]"
    }
   },
   "cell_type": "markdown",
   "id": "c92cbdc7",
   "metadata": {},
   "source": [
    "![image.png](attachment:image.png)"
   ]
  },
  {
   "cell_type": "markdown",
   "id": "6fa7b0cf",
   "metadata": {},
   "source": [
    "### Profit - скор ламы пробит"
   ]
  }
 ],
 "metadata": {
  "kernelspec": {
   "display_name": "Python 3 (ipykernel)",
   "language": "python",
   "name": "python3"
  },
  "language_info": {
   "codemirror_mode": {
    "name": "ipython",
    "version": 3
   },
   "file_extension": ".py",
   "mimetype": "text/x-python",
   "name": "python",
   "nbconvert_exporter": "python",
   "pygments_lexer": "ipython3",
   "version": "3.10.9"
  }
 },
 "nbformat": 4,
 "nbformat_minor": 5
}
